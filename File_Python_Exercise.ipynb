{
  "nbformat": 4,
  "nbformat_minor": 0,
  "metadata": {
    "colab": {
      "name": "File_Python_Exercise.ipynb",
      "provenance": [],
      "toc_visible": true,
      "include_colab_link": true
    },
    "kernelspec": {
      "name": "python3",
      "display_name": "Python 3"
    },
    "language_info": {
      "name": "python"
    }
  },
  "cells": [
    {
      "cell_type": "markdown",
      "metadata": {
        "id": "view-in-github",
        "colab_type": "text"
      },
      "source": [
        "<a href=\"https://colab.research.google.com/github/nsitizen/Percobaan-GitHub/blob/main/File_Python_Exercise.ipynb\" target=\"_parent\"><img src=\"https://colab.research.google.com/assets/colab-badge.svg\" alt=\"Open In Colab\"/></a>"
      ]
    },
    {
      "cell_type": "markdown",
      "source": [
        "# Intro\n",
        "File (CSV) I/O pada Python bertujuan untuk melatih dan memberikan wawasan kepada pembelajar agar bisa memahami penggunaan operasi read, find, insert, update dan delete pada file CSV.\n",
        "\n",
        "File CSV yang digunakan pada latihan ini bersumber dari studi kasus HR pada Oracle yang sudah dikonversi dalam format CSV.\n",
        "\n",
        "Latihan ini disajikan sebagai pengenalan dasar sebelum pembelajar menggunakan DBMS (Database Management System). Harapannya pembelajar memiliki pengalaman melakukan pemrosesan file secara langsung, sebelum dimudahkan oleh operasi-operasi yang telah disediakan oleh DBMS untuk memproses data tabular.\n",
        "\n",
        "Pada latihan ini terdapat 10 instruksi yang dapat dikerjakan oleh pembelajar, dan harus menyesuaikan dengan output yang telah disediakan. Pembelajar tidak diperkenankan menggunakan module selain `csv`."
      ],
      "metadata": {
        "id": "FaRxUUhoRE09"
      }
    },
    {
      "cell_type": "markdown",
      "source": [
        "# Import Module\n",
        "Module CSV digunakan untuk membaca file CSV.\n",
        "\n",
        "Module Drive digunakan untuk memuat dan meminta izin mengakses direktori dan file pada Google Drive."
      ],
      "metadata": {
        "id": "tL4IIe9jUW3J"
      }
    },
    {
      "cell_type": "code",
      "source": [
        "import csv\n",
        "from google.colab import drive\n",
        "drive.mount('/content/drive')"
      ],
      "metadata": {
        "colab": {
          "base_uri": "https://localhost:8080/"
        },
        "id": "mVD2QW8omNhO",
        "outputId": "59bd02a9-f812-41c0-9717-08452c677a2d"
      },
      "execution_count": 328,
      "outputs": [
        {
          "output_type": "stream",
          "name": "stdout",
          "text": [
            "Drive already mounted at /content/drive; to attempt to forcibly remount, call drive.mount(\"/content/drive\", force_remount=True).\n"
          ]
        }
      ]
    },
    {
      "cell_type": "markdown",
      "source": [
        "# Menentukan Path Direktori\n",
        "Mempersiapkan path direktori yang berisikan kumpulan file CSV pada variable `csv_path`"
      ],
      "metadata": {
        "id": "fQsOzRsQU_Sf"
      }
    },
    {
      "cell_type": "code",
      "source": [
        "# Sesuaikan path direktori masing-masing\n",
        "csv_path = '/content/drive/MyDrive/Colab Notebooks/file-csv-python-main/oracle-hr-csv/'"
      ],
      "metadata": {
        "id": "gjxhf7D-TjY_"
      },
      "execution_count": 329,
      "outputs": []
    },
    {
      "cell_type": "markdown",
      "source": [],
      "metadata": {
        "id": "yq_xiGnGGjtb"
      }
    },
    {
      "cell_type": "markdown",
      "source": [
        "# Procedure Read File\n",
        "Pada procedure `read_file` berfungsi untuk membaca file CSV dan menampilkan seluruh isi dari file CSV yang dipilih.\n",
        "\n",
        "Procedure ini masih memiliki keterbatasan jumlah kolom yang dapat ditampilkan."
      ],
      "metadata": {
        "id": "QQTz54TdVam_"
      }
    },
    {
      "cell_type": "code",
      "execution_count": 330,
      "metadata": {
        "id": "uz1KHBpnQMPO"
      },
      "outputs": [],
      "source": [
        "def read_file(csv_file_name):\n",
        "  with open(csv_path + csv_file_name, mode='r') as csv_file:\n",
        "      csv_reader = csv.reader(csv_file, delimiter=',')\n",
        "      line_count = 0\n",
        "      for row in csv_reader:\n",
        "          if line_count == 0:\n",
        "              print(f'Column names:')\n",
        "          print(f'{row[0]}, {row[1]}, {row[2]}')\n",
        "          line_count += 1\n",
        "      print(f'Processed {line_count} lines include header.')\n",
        "  csv_file.close()"
      ]
    },
    {
      "cell_type": "markdown",
      "source": [
        "Memanggil procedure `read_file` untuk membaca file `countries.csv` yang terdiri dari 3 kolom."
      ],
      "metadata": {
        "id": "wczIff1HWtb-"
      }
    },
    {
      "cell_type": "code",
      "source": [
        "read_file('countries.csv')"
      ],
      "metadata": {
        "colab": {
          "base_uri": "https://localhost:8080/"
        },
        "id": "sUXV9jsuWrNq",
        "outputId": "121cc109-b4ed-4119-f166-7c15fbdfe843"
      },
      "execution_count": 331,
      "outputs": [
        {
          "output_type": "stream",
          "name": "stdout",
          "text": [
            "Column names:\n",
            "country_id, country_name, region_id\n",
            "AR, Argentina, 2\n",
            "AU, Australia, 3\n",
            "BE, Belgium, 1\n",
            "BR, Brazil, 2\n",
            "CA, Canada, 2\n",
            "CH, Switzerland, 1\n",
            "CN, China, 3\n",
            "DE, Germany, 1\n",
            "DK, Denmark, 1\n",
            "EG, Egypt, 4\n",
            "FR, France, 1\n",
            "IL, Israel, 4\n",
            "IN, India, 3\n",
            "IT, Italy, 1\n",
            "JP, Japan, 3\n",
            "KW, Kuwait, 4\n",
            "ML, Malaysia, 3\n",
            "MX, Mexico, 2\n",
            "NG, Nigeria, 4\n",
            "NL, Netherlands, 1\n",
            "SG, Singapore, 3\n",
            "UK, 'United Kingdom', 1\n",
            "US, 'United States of America', 2\n",
            "ZM, Zambia, 4\n",
            "ZW, Zimbabwe, 4\n",
            "ID, Negara Kesatuan Republik Indonesia, 3\n",
            "NZ, New Zealand, 1\n",
            "ID, Negara Kesatuan Republik Indonesia, 3\n",
            "NZ, New Zealand, 1\n",
            "ID, Negara Kesatuan Republik Indonesia, 3\n",
            "NZ, New Zealand, 1\n",
            "ID, Negara Kesatuan Republik Indonesia, 3\n",
            "NZ, New Zealand, 1\n",
            "ID, Negara Kesatuan Republik Indonesia, 3\n",
            "NZ, New Zealand, 1\n",
            "ID, Negara Kesatuan Republik Indonesia, 3\n",
            "NZ, New Zealand, 1\n",
            "ID, Negara Kesatuan Republik Indonesia, 3\n",
            "NZ, New Zealand, 1\n",
            "Processed 40 lines include header.\n"
          ]
        }
      ]
    },
    {
      "cell_type": "markdown",
      "source": [
        "**Instruksi 1:** Definisikan ulang procedure `read_file` untuk dapat **menampilkan seluruh kolom**."
      ],
      "metadata": {
        "id": "-Qu2mm-xWOcf"
      }
    },
    {
      "cell_type": "code",
      "source": [
        "def read_file(csv_file_name):\n",
        "  with open(csv_path + csv_file_name, mode='r') as csv_file:\n",
        "      csv_reader = csv.reader(csv_file, delimiter=',')\n",
        "      line_count = 0\n",
        "      for row in csv_reader:\n",
        "          if line_count == 0:\n",
        "              print(f'Column names:')\n",
        "          print(f'{row[0]}, {row[1]}')\n",
        "          line_count += 1\n",
        "      print(f'Processed {line_count} lines include header.')\n",
        "  csv_file.close()"
      ],
      "metadata": {
        "id": "d8NpIS81TmGf"
      },
      "execution_count": 332,
      "outputs": []
    },
    {
      "cell_type": "markdown",
      "source": [
        "Memanggil procedure `read_file` untuk membaca file `regions.csv` yang terdiri dari 2 kolom."
      ],
      "metadata": {
        "id": "sXnFXUM8DhRR"
      }
    },
    {
      "cell_type": "code",
      "source": [
        "read_file('regions.csv')"
      ],
      "metadata": {
        "colab": {
          "base_uri": "https://localhost:8080/"
        },
        "id": "Hh6gM7aADaeS",
        "outputId": "376a2ae4-d231-4299-bf88-558cfaaad1d1"
      },
      "execution_count": 333,
      "outputs": [
        {
          "output_type": "stream",
          "name": "stdout",
          "text": [
            "Column names:\n",
            "region_id, region_name\n",
            "1, Europe\n",
            "2, Americas\n",
            "3, Asia\n",
            "4, 'Middle East and Africa'\n",
            "Processed 5 lines include header.\n"
          ]
        }
      ]
    },
    {
      "cell_type": "code",
      "source": [
        "def read_file(csv_file_name):\n",
        "  with open(csv_path + csv_file_name, mode='r') as csv_file:\n",
        "      csv_reader = csv.reader(csv_file, delimiter=',')\n",
        "      line_count = 0\n",
        "      for row in csv_reader:\n",
        "          if line_count == 0:\n",
        "              print(f'Column names:')\n",
        "          print(f'{row[0]}, {row[1]}, {row[2]}, {row[3]}, {row[4]}, {row[5]}, {row[6]}, {row[7]}, {row[8]}, {row[9]}, {row[10]}')\n",
        "          line_count += 1\n",
        "      print(f'Processed {line_count} lines include header.')\n",
        "  csv_file.close()"
      ],
      "metadata": {
        "id": "p0my4iCL9dxF"
      },
      "execution_count": 334,
      "outputs": []
    },
    {
      "cell_type": "markdown",
      "source": [
        "Memanggil procedure `read_file` untuk membaca file `employees.csv` yang terdiri dari 11 kolom."
      ],
      "metadata": {
        "id": "r0bD8glLYoZw"
      }
    },
    {
      "cell_type": "code",
      "source": [
        "read_file('employees.csv')"
      ],
      "metadata": {
        "id": "b4G78ILn0pFW",
        "outputId": "4e60cb21-9e26-450a-93f3-3f1740359f63",
        "colab": {
          "base_uri": "https://localhost:8080/"
        }
      },
      "execution_count": 335,
      "outputs": [
        {
          "output_type": "stream",
          "name": "stdout",
          "text": [
            "Column names:\n",
            "employee_id, first_name, last_name, email, phone_number, hire_date, job_id, salary, commission_pct, manager_id, department_id\n",
            "100, Steven, King, SKING, 515.123.4567, 2003-06-17, AD_PRES, 24000, NULL, NULL, 90\n",
            "101, Neena, Kochhar, NKOCHHAR, 515.123.4568, 2005-09-21, AD_VP, 17000, NULL, 100, 90\n",
            "102, Lex, 'De Haan', LDEHAAN, 515.123.4569, 2001-01-13, AD_VP, 17000, NULL, 100, 90\n",
            "103, Alexander, Hunold, AHUNOLD, 590.423.4567, 2006-01-03, IT_PROG, 9000, NULL, 102, 60\n",
            "104, Bruce, Ernst, BERNST, 590.423.4568, 2007-05-21, IT_PROG, 6000, NULL, 103, 60\n",
            "105, David, Austin, DAUSTIN, 590.423.4569, 2005-06-25, IT_PROG, 4800, NULL, 103, 60\n",
            "106, Valli, Pataballa, VPATABAL, 590.423.4560, 2006-02-05, IT_PROG, 4800, NULL, 103, 60\n",
            "107, Diana, Lorentz, DLORENTZ, 590.423.5567, 2007-02-07, IT_PROG, 4200, NULL, 103, 60\n",
            "108, Nancy, Greenberg, NGREENBE, 515.124.4569, 2002-08-17, FI_MGR, 12008, NULL, 101, 100\n",
            "109, Daniel, Faviet, DFAVIET, 515.124.4169, 2002-08-16, FI_ACCOUNT, 9000, NULL, 108, 100\n",
            "110, John, Chen, JCHEN, 515.124.4269, 2005-09-28, FI_ACCOUNT, 8200, NULL, 108, 100\n",
            "111, Ismael, Sciarra, ISCIARRA, 515.124.4369, 2005-09-30, FI_ACCOUNT, 7700, NULL, 108, 100\n",
            "112, 'Jose Manuel', Urman, JMURMAN, 515.124.4469, 2006-03-07, FI_ACCOUNT, 7800, NULL, 108, 100\n",
            "113, Luis, Popp, LPOPP, 515.124.4567, 2007-12-07, FI_ACCOUNT, 6900, NULL, 108, 100\n",
            "114, Den, Raphaely, DRAPHEAL, 515.127.4561, 2002-12-07, PU_MAN, 11000, NULL, 100, 30\n",
            "115, Alexander, Khoo, AKHOO, 515.127.4562, 2003-05-18, PU_CLERK, 3100, NULL, 114, 30\n",
            "116, Shelli, Baida, SBAIDA, 515.127.4563, 2005-12-24, PU_CLERK, 2900, NULL, 114, 30\n",
            "117, Sigal, Tobias, STOBIAS, 515.127.4564, 2005-07-24, PU_CLERK, 2800, NULL, 114, 30\n",
            "118, Guy, Himuro, GHIMURO, 515.127.4565, 2006-11-15, PU_CLERK, 2600, NULL, 114, 30\n",
            "119, Karen, Colmenares, KCOLMENA, 515.127.4566, 2007-08-10, PU_CLERK, 2500, NULL, 114, 30\n",
            "120, Matthew, Weiss, MWEISS, 650.123.1234, 2004-07-18, ST_MAN, 8000, NULL, 100, 50\n",
            "121, Adam, Fripp, AFRIPP, 650.123.2234, 2005-04-10, ST_MAN, 8200, NULL, 100, 50\n",
            "122, Payam, Kaufling, PKAUFLIN, 650.123.3234, 2003-05-01, ST_MAN, 7900, NULL, 100, 50\n",
            "123, Shanta, Vollman, SVOLLMAN, 650.123.4234, 2005-10-10, ST_MAN, 6500, NULL, 100, 50\n",
            "124, Kevin, Mourgos, KMOURGOS, 650.123.5234, 2007-11-16, ST_MAN, 5800, NULL, 100, 50\n",
            "125, Julia, Nayer, JNAYER, 650.124.1214, 2005-07-16, ST_CLERK, 3200, NULL, 120, 50\n",
            "126, Irene, Mikkilineni, IMIKKILI, 650.124.1224, 2006-09-28, ST_CLERK, 2700, NULL, 120, 50\n",
            "127, James, Landry, JLANDRY, 650.124.1334, 2007-01-14, ST_CLERK, 2400, NULL, 120, 50\n",
            "128, Steven, Markle, SMARKLE, 650.124.1434, 2008-03-08, ST_CLERK, 2200, NULL, 120, 50\n",
            "129, Laura, Bissot, LBISSOT, 650.124.5234, 2005-08-20, ST_CLERK, 3300, NULL, 121, 50\n",
            "130, Mozhe, Atkinson, MATKINSO, 650.124.6234, 2005-10-30, ST_CLERK, 2800, NULL, 121, 50\n",
            "131, James, Marlow, JAMRLOW, 650.124.7234, 2005-02-16, ST_CLERK, 2500, NULL, 121, 50\n",
            "132, TJ, Olson, TJOLSON, 650.124.8234, 2007-04-10, ST_CLERK, 2100, NULL, 121, 50\n",
            "133, Jason, Mallin, JMALLIN, 650.127.1934, 2004-06-14, ST_CLERK, 3300, NULL, 122, 50\n",
            "134, Michael, Rogers, MROGERS, 650.127.1834, 2006-08-26, ST_CLERK, 2900, NULL, 122, 50\n",
            "135, Ki, Gee, KGEE, 650.127.1734, 2007-12-12, ST_CLERK, 2400, NULL, 122, 50\n",
            "136, Hazel, Philtanker, HPHILTAN, 650.127.1634, 2008-02-06, ST_CLERK, 2200, NULL, 122, 50\n",
            "137, Renske, Ladwig, RLADWIG, 650.121.1234, 2003-07-14, ST_CLERK, 3600, NULL, 123, 50\n",
            "138, Stephen, Stiles, SSTILES, 650.121.2034, 2005-10-26, ST_CLERK, 3200, NULL, 123, 50\n",
            "139, John, Seo, JSEO, 650.121.2019, 2006-02-12, ST_CLERK, 2700, NULL, 123, 50\n",
            "140, Joshua, Patel, JPATEL, 650.121.1834, 2006-04-06, ST_CLERK, 2500, NULL, 123, 50\n",
            "141, Trenna, Rajs, TRAJS, 650.121.8009, 2003-10-17, ST_CLERK, 3500, NULL, 124, 50\n",
            "142, Curtis, Davies, CDAVIES, 650.121.2994, 2005-01-29, ST_CLERK, 3100, NULL, 124, 50\n",
            "143, Randall, Matos, RMATOS, 650.121.2874, 2006-03-15, ST_CLERK, 2600, NULL, 124, 50\n",
            "144, Peter, Vargas, PVARGAS, 650.121.2004, 2006-07-09, ST_CLERK, 2500, NULL, 124, 50\n",
            "145, John, Russell, JRUSSEL, 011.44.1344.429268, 2004-10-01, SA_MAN, 14000, 0.4, 100, 80\n",
            "146, Karen, Partners, KPARTNER, 011.44.1344.467268, 2005-01-05, SA_MAN, 13500, 0.3, 100, 80\n",
            "147, Alberto, Errazuriz, AERRAZUR, 011.44.1344.429278, 2005-03-10, SA_MAN, 12000, 0.3, 100, 80\n",
            "148, Gerald, Cambrault, GCAMBRAU, 011.44.1344.619268, 2007-10-15, SA_MAN, 11000, 0.3, 100, 80\n",
            "149, Eleni, Zlotkey, EZLOTKEY, 011.44.1344.429018, 2008-01-29, SA_MAN, 10500, 0.2, 100, 80\n",
            "150, Peter, Tucker, PTUCKER, 011.44.1344.129268, 2005-01-30, SA_REP, 10000, 0.3, 145, 80\n",
            "151, David, Bernstein, DBERNSTE, 011.44.1344.345268, 2005-03-24, SA_REP, 9500, 0.25, 145, 80\n",
            "152, Peter, Hall, PHALL, 011.44.1344.478968, 2005-08-20, SA_REP, 9000, 0.25, 145, 80\n",
            "153, Christopher, Olsen, COLSEN, 011.44.1344.498718, 2006-03-30, SA_REP, 8000, 0.2, 145, 80\n",
            "154, Nanette, Cambrault, NCAMBRAU, 011.44.1344.987668, 2006-12-09, SA_REP, 7500, 0.2, 145, 80\n",
            "155, Oliver, Tuvault, OTUVAULT, 011.44.1344.486508, 2007-11-23, SA_REP, 7000, 0.15, 145, 80\n",
            "156, Janette, King, JKING, 011.44.1345.429268, 2004-01-30, SA_REP, 10000, 0.35, 146, 80\n",
            "157, Patrick, Sully, PSULLY, 011.44.1345.929268, 2004-03-04, SA_REP, 9500, 0.35, 146, 80\n",
            "158, Allan, McEwen, AMCEWEN, 011.44.1345.829268, 2004-08-01, SA_REP, 9000, 0.35, 146, 80\n",
            "159, Lindsey, Smith, LSMITH, 011.44.1345.729268, 2005-03-10, SA_REP, 8000, 0.3, 146, 80\n",
            "160, Louise, Doran, LDORAN, 011.44.1345.629268, 2005-12-15, SA_REP, 7500, 0.3, 146, 80\n",
            "161, Sarath, Sewall, SSEWALL, 011.44.1345.529268, 2006-11-03, SA_REP, 7000, 0.25, 146, 80\n",
            "162, Clara, Vishney, CVISHNEY, 011.44.1346.129268, 2005-11-11, SA_REP, 10500, 0.25, 147, 80\n",
            "163, Danielle, Greene, DGREENE, 011.44.1346.229268, 2007-03-19, SA_REP, 9500, 0.15, 147, 80\n",
            "164, Mattea, Marvins, MMARVINS, 011.44.1346.329268, 2008-01-24, SA_REP, 7200, 0.1, 147, 80\n",
            "165, David, Lee, DLEE, 011.44.1346.529268, 2008-02-23, SA_REP, 6800, 0.1, 147, 80\n",
            "166, Sundar, Ande, SANDE, 011.44.1346.629268, 2008-03-24, SA_REP, 6400, 0.1, 147, 80\n",
            "167, Amit, Banda, ABANDA, 011.44.1346.729268, 2008-04-21, SA_REP, 6200, 0.1, 147, 80\n",
            "168, Lisa, Ozer, LOZER, 011.44.1343.929268, 2005-03-11, SA_REP, 11500, 0.25, 148, 80\n",
            "169, Harrison, Bloom, HBLOOM, 011.44.1343.829268, 2006-03-23, SA_REP, 10000, 0.2, 148, 80\n",
            "170, Tayler, Fox, TFOX, 011.44.1343.729268, 2006-01-24, SA_REP, 9600, 0.2, 148, 80\n",
            "171, William, Smith, WSMITH, 011.44.1343.629268, 2007-02-23, SA_REP, 7400, 0.15, 148, 80\n",
            "172, Elizabeth, Bates, EBATES, 011.44.1343.529268, 2007-03-24, SA_REP, 7300, 0.15, 148, 80\n",
            "173, Sundita, Kumar, SKUMAR, 011.44.1343.329268, 2008-04-21, SA_REP, 6100, 0.1, 148, 80\n",
            "174, Ellen, Abel, EABEL, 011.44.1644.429267, 2004-05-11, SA_REP, 11000, 0.3, 149, 80\n",
            "175, Alyssa, Hutton, AHUTTON, 011.44.1644.429266, 2005-03-19, SA_REP, 8800, 0.25, 149, 80\n",
            "176, Jonathon, Taylor, JTAYLOR, 011.44.1644.429265, 2006-03-24, SA_REP, 8600, 0.2, 149, 80\n",
            "177, Jack, Livingston, JLIVINGS, 011.44.1644.429264, 2006-04-23, SA_REP, 8400, 0.2, 149, 80\n",
            "178, Kimberely, Grant, KGRANT, 011.44.1644.429263, 2007-05-24, SA_REP, 7000, 0.15, 149, NULL\n",
            "179, Charles, Johnson, CJOHNSON, 011.44.1644.429262, 2008-01-04, SA_REP, 6200, 0.1, 149, 80\n",
            "180, Winston, Taylor, WTAYLOR, 650.507.9876, 2006-01-24, SH_CLERK, 3200, NULL, 120, 50\n",
            "181, Jean, Fleaur, JFLEAUR, 650.507.9877, 2006-02-23, SH_CLERK, 3100, NULL, 120, 50\n",
            "182, Martha, Sullivan, MSULLIVA, 650.507.9878, 2007-06-21, SH_CLERK, 2500, NULL, 120, 50\n",
            "183, Girard, Geoni, GGEONI, 650.507.9879, 2008-02-03, SH_CLERK, 2800, NULL, 120, 50\n",
            "184, Nandita, Sarchand, NSARCHAN, 650.509.1876, 2004-01-27, SH_CLERK, 4200, NULL, 121, 50\n",
            "185, Alexis, Bull, ABULL, 650.509.2876, 2005-02-20, SH_CLERK, 4100, NULL, 121, 50\n",
            "186, Julia, Dellinger, JDELLING, 650.509.3876, 2006-06-24, SH_CLERK, 3400, NULL, 121, 50\n",
            "187, Anthony, Cabrio, ACABRIO, 650.509.4876, 2007-02-07, SH_CLERK, 3000, NULL, 121, 50\n",
            "188, Kelly, Chung, KCHUNG, 650.505.1876, 2005-06-14, SH_CLERK, 3800, NULL, 122, 50\n",
            "189, Jennifer, Dilly, JDILLY, 650.505.2876, 2005-08-13, SH_CLERK, 3600, NULL, 122, 50\n",
            "190, Timothy, Gates, TGATES, 650.505.3876, 2006-07-11, SH_CLERK, 2900, NULL, 122, 50\n",
            "191, Randall, Perkins, RPERKINS, 650.505.4876, 2007-12-19, SH_CLERK, 2500, NULL, 122, 50\n",
            "192, Sarah, Bell, SBELL, 650.501.1876, 2004-02-04, SH_CLERK, 4000, NULL, 123, 50\n",
            "193, Britney, Everett, BEVERETT, 650.501.2876, 2005-03-03, SH_CLERK, 3900, NULL, 123, 50\n",
            "194, Samuel, McCain, SMCCAIN, 650.501.3876, 2006-07-01, SH_CLERK, 3200, NULL, 123, 50\n",
            "195, Vance, Jones, VJONES, 650.501.4876, 2007-03-17, SH_CLERK, 2800, NULL, 123, 50\n",
            "196, Alana, Walsh, AWALSH, 650.507.9811, 2006-04-24, SH_CLERK, 3100, NULL, 124, 50\n",
            "197, Kevin, Feeney, KFEENEY, 650.507.9822, 2006-05-23, SH_CLERK, 3000, NULL, 124, 50\n",
            "198, Donald, OConnell, DOCONNEL, 650.507.9833, 2007-06-21, SH_CLERK, 2600, NULL, 124, 50\n",
            "199, Douglas, Grant, DGRANT, 650.507.9844, 2008-01-13, SH_CLERK, 2600, NULL, 124, 50\n",
            "200, Jennifer, Whalen, JWHALEN, 515.123.4444, 2003-09-17, AD_ASST, 4400, NULL, 101, 10\n",
            "201, Michael, Hartstein, MHARTSTE, 515.123.5555, 2004-02-17, MK_MAN, 13000, NULL, 100, 20\n",
            "202, Pat, Fay, PFAY, 603.123.6666, 2005-08-17, MK_REP, 6000, NULL, 201, 20\n",
            "203, Susan, Mavris, SMAVRIS, 515.123.7777, 2002-06-07, HR_REP, 6500, NULL, 101, 40\n",
            "204, Hermann, Baer, HBAER, 515.123.8888, 2002-06-07, PR_REP, 10000, NULL, 101, 70\n",
            "205, Shelley, Higgins, SHIGGINS, 515.123.8080, 2002-06-07, AC_MGR, 12008, NULL, 101, 110\n",
            "206, William, Gietz, WGIETZ, 515.123.8181, 2002-06-07, AC_ACCOUNT, 8300, NULL, 205, 110\n",
            "Processed 108 lines include header.\n"
          ]
        }
      ]
    },
    {
      "cell_type": "markdown",
      "source": [
        "**Instruksi 2:** Definisikan ulang procedure `read_file` untuk dapat **menampilkan kolom tertentu** berdasarkan indeks list (mulai dari 0) dengan menyediakan 3 parameter/argumen:\n",
        "\n",
        "1.   `csv_file_name`: Nama File CSV\n",
        "2.   `column_start`: Indeks kolom awal\n",
        "3.   `column_end`: Indeks kolom akhir\n",
        "\n"
      ],
      "metadata": {
        "id": "mDVzeAeoXpdp"
      }
    },
    {
      "cell_type": "code",
      "source": [
        "def read_file(csv_file_name, column_start=0, column_end=None):\n",
        "  with open(csv_path + csv_file_name, mode='r') as csv_file:\n",
        "      csv_reader = csv.reader(csv_file, delimiter=',')\n",
        "      line_count = 0\n",
        "      for row in csv_reader:\n",
        "          if column_end is None:\n",
        "              print(\", \".join(row[column_start:]))\n",
        "          else:\n",
        "              print(\", \".join(row[column_start:column_end]))\n",
        "              break\n",
        "      line_count += 1\n",
        "      print(f'Processed {line_count} lines include header.')\n",
        "  csv_file.close()"
      ],
      "metadata": {
        "id": "TJP9t2PrCFkh"
      },
      "execution_count": 336,
      "outputs": []
    },
    {
      "cell_type": "markdown",
      "source": [
        "Memanggil procedure `read_file` untuk membaca file `employees.csv` dengan pemilihan kolom tertentu.\n",
        "\n",
        "Proses pemilihan kolom sama seperti melakukan slicing list pada Python."
      ],
      "metadata": {
        "id": "qbUzdUTKY5gZ"
      }
    },
    {
      "cell_type": "code",
      "source": [
        "# Menampilkan dari indeks awal 0 dari 3 indeks\n",
        "read_file('employees.csv', 0, 3)"
      ],
      "metadata": {
        "id": "pdsPim_SC8jl",
        "outputId": "aeb949ed-290b-41d1-b325-3305569bbc1f",
        "colab": {
          "base_uri": "https://localhost:8080/"
        }
      },
      "execution_count": 337,
      "outputs": [
        {
          "output_type": "stream",
          "name": "stdout",
          "text": [
            "employee_id, first_name, last_name\n",
            "Processed 1 lines include header.\n"
          ]
        }
      ]
    },
    {
      "cell_type": "code",
      "source": [
        "# Menampilkan dari indeks awal 0 sampai akhir\n",
        "read_file('employees.csv', 0)"
      ],
      "metadata": {
        "id": "qy6DdPHSaIq0",
        "outputId": "0b5169c3-f2ac-4995-de58-9af268edc137",
        "colab": {
          "base_uri": "https://localhost:8080/"
        }
      },
      "execution_count": 338,
      "outputs": [
        {
          "output_type": "stream",
          "name": "stdout",
          "text": [
            "employee_id, first_name, last_name, email, phone_number, hire_date, job_id, salary, commission_pct, manager_id, department_id\n",
            "100, Steven, King, SKING, 515.123.4567, 2003-06-17, AD_PRES, 24000, NULL, NULL, 90\n",
            "101, Neena, Kochhar, NKOCHHAR, 515.123.4568, 2005-09-21, AD_VP, 17000, NULL, 100, 90\n",
            "102, Lex, 'De Haan', LDEHAAN, 515.123.4569, 2001-01-13, AD_VP, 17000, NULL, 100, 90\n",
            "103, Alexander, Hunold, AHUNOLD, 590.423.4567, 2006-01-03, IT_PROG, 9000, NULL, 102, 60\n",
            "104, Bruce, Ernst, BERNST, 590.423.4568, 2007-05-21, IT_PROG, 6000, NULL, 103, 60\n",
            "105, David, Austin, DAUSTIN, 590.423.4569, 2005-06-25, IT_PROG, 4800, NULL, 103, 60\n",
            "106, Valli, Pataballa, VPATABAL, 590.423.4560, 2006-02-05, IT_PROG, 4800, NULL, 103, 60\n",
            "107, Diana, Lorentz, DLORENTZ, 590.423.5567, 2007-02-07, IT_PROG, 4200, NULL, 103, 60\n",
            "108, Nancy, Greenberg, NGREENBE, 515.124.4569, 2002-08-17, FI_MGR, 12008, NULL, 101, 100\n",
            "109, Daniel, Faviet, DFAVIET, 515.124.4169, 2002-08-16, FI_ACCOUNT, 9000, NULL, 108, 100\n",
            "110, John, Chen, JCHEN, 515.124.4269, 2005-09-28, FI_ACCOUNT, 8200, NULL, 108, 100\n",
            "111, Ismael, Sciarra, ISCIARRA, 515.124.4369, 2005-09-30, FI_ACCOUNT, 7700, NULL, 108, 100\n",
            "112, 'Jose Manuel', Urman, JMURMAN, 515.124.4469, 2006-03-07, FI_ACCOUNT, 7800, NULL, 108, 100\n",
            "113, Luis, Popp, LPOPP, 515.124.4567, 2007-12-07, FI_ACCOUNT, 6900, NULL, 108, 100\n",
            "114, Den, Raphaely, DRAPHEAL, 515.127.4561, 2002-12-07, PU_MAN, 11000, NULL, 100, 30\n",
            "115, Alexander, Khoo, AKHOO, 515.127.4562, 2003-05-18, PU_CLERK, 3100, NULL, 114, 30\n",
            "116, Shelli, Baida, SBAIDA, 515.127.4563, 2005-12-24, PU_CLERK, 2900, NULL, 114, 30\n",
            "117, Sigal, Tobias, STOBIAS, 515.127.4564, 2005-07-24, PU_CLERK, 2800, NULL, 114, 30\n",
            "118, Guy, Himuro, GHIMURO, 515.127.4565, 2006-11-15, PU_CLERK, 2600, NULL, 114, 30\n",
            "119, Karen, Colmenares, KCOLMENA, 515.127.4566, 2007-08-10, PU_CLERK, 2500, NULL, 114, 30\n",
            "120, Matthew, Weiss, MWEISS, 650.123.1234, 2004-07-18, ST_MAN, 8000, NULL, 100, 50\n",
            "121, Adam, Fripp, AFRIPP, 650.123.2234, 2005-04-10, ST_MAN, 8200, NULL, 100, 50\n",
            "122, Payam, Kaufling, PKAUFLIN, 650.123.3234, 2003-05-01, ST_MAN, 7900, NULL, 100, 50\n",
            "123, Shanta, Vollman, SVOLLMAN, 650.123.4234, 2005-10-10, ST_MAN, 6500, NULL, 100, 50\n",
            "124, Kevin, Mourgos, KMOURGOS, 650.123.5234, 2007-11-16, ST_MAN, 5800, NULL, 100, 50\n",
            "125, Julia, Nayer, JNAYER, 650.124.1214, 2005-07-16, ST_CLERK, 3200, NULL, 120, 50\n",
            "126, Irene, Mikkilineni, IMIKKILI, 650.124.1224, 2006-09-28, ST_CLERK, 2700, NULL, 120, 50\n",
            "127, James, Landry, JLANDRY, 650.124.1334, 2007-01-14, ST_CLERK, 2400, NULL, 120, 50\n",
            "128, Steven, Markle, SMARKLE, 650.124.1434, 2008-03-08, ST_CLERK, 2200, NULL, 120, 50\n",
            "129, Laura, Bissot, LBISSOT, 650.124.5234, 2005-08-20, ST_CLERK, 3300, NULL, 121, 50\n",
            "130, Mozhe, Atkinson, MATKINSO, 650.124.6234, 2005-10-30, ST_CLERK, 2800, NULL, 121, 50\n",
            "131, James, Marlow, JAMRLOW, 650.124.7234, 2005-02-16, ST_CLERK, 2500, NULL, 121, 50\n",
            "132, TJ, Olson, TJOLSON, 650.124.8234, 2007-04-10, ST_CLERK, 2100, NULL, 121, 50\n",
            "133, Jason, Mallin, JMALLIN, 650.127.1934, 2004-06-14, ST_CLERK, 3300, NULL, 122, 50\n",
            "134, Michael, Rogers, MROGERS, 650.127.1834, 2006-08-26, ST_CLERK, 2900, NULL, 122, 50\n",
            "135, Ki, Gee, KGEE, 650.127.1734, 2007-12-12, ST_CLERK, 2400, NULL, 122, 50\n",
            "136, Hazel, Philtanker, HPHILTAN, 650.127.1634, 2008-02-06, ST_CLERK, 2200, NULL, 122, 50\n",
            "137, Renske, Ladwig, RLADWIG, 650.121.1234, 2003-07-14, ST_CLERK, 3600, NULL, 123, 50\n",
            "138, Stephen, Stiles, SSTILES, 650.121.2034, 2005-10-26, ST_CLERK, 3200, NULL, 123, 50\n",
            "139, John, Seo, JSEO, 650.121.2019, 2006-02-12, ST_CLERK, 2700, NULL, 123, 50\n",
            "140, Joshua, Patel, JPATEL, 650.121.1834, 2006-04-06, ST_CLERK, 2500, NULL, 123, 50\n",
            "141, Trenna, Rajs, TRAJS, 650.121.8009, 2003-10-17, ST_CLERK, 3500, NULL, 124, 50\n",
            "142, Curtis, Davies, CDAVIES, 650.121.2994, 2005-01-29, ST_CLERK, 3100, NULL, 124, 50\n",
            "143, Randall, Matos, RMATOS, 650.121.2874, 2006-03-15, ST_CLERK, 2600, NULL, 124, 50\n",
            "144, Peter, Vargas, PVARGAS, 650.121.2004, 2006-07-09, ST_CLERK, 2500, NULL, 124, 50\n",
            "145, John, Russell, JRUSSEL, 011.44.1344.429268, 2004-10-01, SA_MAN, 14000, 0.4, 100, 80\n",
            "146, Karen, Partners, KPARTNER, 011.44.1344.467268, 2005-01-05, SA_MAN, 13500, 0.3, 100, 80\n",
            "147, Alberto, Errazuriz, AERRAZUR, 011.44.1344.429278, 2005-03-10, SA_MAN, 12000, 0.3, 100, 80\n",
            "148, Gerald, Cambrault, GCAMBRAU, 011.44.1344.619268, 2007-10-15, SA_MAN, 11000, 0.3, 100, 80\n",
            "149, Eleni, Zlotkey, EZLOTKEY, 011.44.1344.429018, 2008-01-29, SA_MAN, 10500, 0.2, 100, 80\n",
            "150, Peter, Tucker, PTUCKER, 011.44.1344.129268, 2005-01-30, SA_REP, 10000, 0.3, 145, 80\n",
            "151, David, Bernstein, DBERNSTE, 011.44.1344.345268, 2005-03-24, SA_REP, 9500, 0.25, 145, 80\n",
            "152, Peter, Hall, PHALL, 011.44.1344.478968, 2005-08-20, SA_REP, 9000, 0.25, 145, 80\n",
            "153, Christopher, Olsen, COLSEN, 011.44.1344.498718, 2006-03-30, SA_REP, 8000, 0.2, 145, 80\n",
            "154, Nanette, Cambrault, NCAMBRAU, 011.44.1344.987668, 2006-12-09, SA_REP, 7500, 0.2, 145, 80\n",
            "155, Oliver, Tuvault, OTUVAULT, 011.44.1344.486508, 2007-11-23, SA_REP, 7000, 0.15, 145, 80\n",
            "156, Janette, King, JKING, 011.44.1345.429268, 2004-01-30, SA_REP, 10000, 0.35, 146, 80\n",
            "157, Patrick, Sully, PSULLY, 011.44.1345.929268, 2004-03-04, SA_REP, 9500, 0.35, 146, 80\n",
            "158, Allan, McEwen, AMCEWEN, 011.44.1345.829268, 2004-08-01, SA_REP, 9000, 0.35, 146, 80\n",
            "159, Lindsey, Smith, LSMITH, 011.44.1345.729268, 2005-03-10, SA_REP, 8000, 0.3, 146, 80\n",
            "160, Louise, Doran, LDORAN, 011.44.1345.629268, 2005-12-15, SA_REP, 7500, 0.3, 146, 80\n",
            "161, Sarath, Sewall, SSEWALL, 011.44.1345.529268, 2006-11-03, SA_REP, 7000, 0.25, 146, 80\n",
            "162, Clara, Vishney, CVISHNEY, 011.44.1346.129268, 2005-11-11, SA_REP, 10500, 0.25, 147, 80\n",
            "163, Danielle, Greene, DGREENE, 011.44.1346.229268, 2007-03-19, SA_REP, 9500, 0.15, 147, 80\n",
            "164, Mattea, Marvins, MMARVINS, 011.44.1346.329268, 2008-01-24, SA_REP, 7200, 0.1, 147, 80\n",
            "165, David, Lee, DLEE, 011.44.1346.529268, 2008-02-23, SA_REP, 6800, 0.1, 147, 80\n",
            "166, Sundar, Ande, SANDE, 011.44.1346.629268, 2008-03-24, SA_REP, 6400, 0.1, 147, 80\n",
            "167, Amit, Banda, ABANDA, 011.44.1346.729268, 2008-04-21, SA_REP, 6200, 0.1, 147, 80\n",
            "168, Lisa, Ozer, LOZER, 011.44.1343.929268, 2005-03-11, SA_REP, 11500, 0.25, 148, 80\n",
            "169, Harrison, Bloom, HBLOOM, 011.44.1343.829268, 2006-03-23, SA_REP, 10000, 0.2, 148, 80\n",
            "170, Tayler, Fox, TFOX, 011.44.1343.729268, 2006-01-24, SA_REP, 9600, 0.2, 148, 80\n",
            "171, William, Smith, WSMITH, 011.44.1343.629268, 2007-02-23, SA_REP, 7400, 0.15, 148, 80\n",
            "172, Elizabeth, Bates, EBATES, 011.44.1343.529268, 2007-03-24, SA_REP, 7300, 0.15, 148, 80\n",
            "173, Sundita, Kumar, SKUMAR, 011.44.1343.329268, 2008-04-21, SA_REP, 6100, 0.1, 148, 80\n",
            "174, Ellen, Abel, EABEL, 011.44.1644.429267, 2004-05-11, SA_REP, 11000, 0.3, 149, 80\n",
            "175, Alyssa, Hutton, AHUTTON, 011.44.1644.429266, 2005-03-19, SA_REP, 8800, 0.25, 149, 80\n",
            "176, Jonathon, Taylor, JTAYLOR, 011.44.1644.429265, 2006-03-24, SA_REP, 8600, 0.2, 149, 80\n",
            "177, Jack, Livingston, JLIVINGS, 011.44.1644.429264, 2006-04-23, SA_REP, 8400, 0.2, 149, 80\n",
            "178, Kimberely, Grant, KGRANT, 011.44.1644.429263, 2007-05-24, SA_REP, 7000, 0.15, 149, NULL\n",
            "179, Charles, Johnson, CJOHNSON, 011.44.1644.429262, 2008-01-04, SA_REP, 6200, 0.1, 149, 80\n",
            "180, Winston, Taylor, WTAYLOR, 650.507.9876, 2006-01-24, SH_CLERK, 3200, NULL, 120, 50\n",
            "181, Jean, Fleaur, JFLEAUR, 650.507.9877, 2006-02-23, SH_CLERK, 3100, NULL, 120, 50\n",
            "182, Martha, Sullivan, MSULLIVA, 650.507.9878, 2007-06-21, SH_CLERK, 2500, NULL, 120, 50\n",
            "183, Girard, Geoni, GGEONI, 650.507.9879, 2008-02-03, SH_CLERK, 2800, NULL, 120, 50\n",
            "184, Nandita, Sarchand, NSARCHAN, 650.509.1876, 2004-01-27, SH_CLERK, 4200, NULL, 121, 50\n",
            "185, Alexis, Bull, ABULL, 650.509.2876, 2005-02-20, SH_CLERK, 4100, NULL, 121, 50\n",
            "186, Julia, Dellinger, JDELLING, 650.509.3876, 2006-06-24, SH_CLERK, 3400, NULL, 121, 50\n",
            "187, Anthony, Cabrio, ACABRIO, 650.509.4876, 2007-02-07, SH_CLERK, 3000, NULL, 121, 50\n",
            "188, Kelly, Chung, KCHUNG, 650.505.1876, 2005-06-14, SH_CLERK, 3800, NULL, 122, 50\n",
            "189, Jennifer, Dilly, JDILLY, 650.505.2876, 2005-08-13, SH_CLERK, 3600, NULL, 122, 50\n",
            "190, Timothy, Gates, TGATES, 650.505.3876, 2006-07-11, SH_CLERK, 2900, NULL, 122, 50\n",
            "191, Randall, Perkins, RPERKINS, 650.505.4876, 2007-12-19, SH_CLERK, 2500, NULL, 122, 50\n",
            "192, Sarah, Bell, SBELL, 650.501.1876, 2004-02-04, SH_CLERK, 4000, NULL, 123, 50\n",
            "193, Britney, Everett, BEVERETT, 650.501.2876, 2005-03-03, SH_CLERK, 3900, NULL, 123, 50\n",
            "194, Samuel, McCain, SMCCAIN, 650.501.3876, 2006-07-01, SH_CLERK, 3200, NULL, 123, 50\n",
            "195, Vance, Jones, VJONES, 650.501.4876, 2007-03-17, SH_CLERK, 2800, NULL, 123, 50\n",
            "196, Alana, Walsh, AWALSH, 650.507.9811, 2006-04-24, SH_CLERK, 3100, NULL, 124, 50\n",
            "197, Kevin, Feeney, KFEENEY, 650.507.9822, 2006-05-23, SH_CLERK, 3000, NULL, 124, 50\n",
            "198, Donald, OConnell, DOCONNEL, 650.507.9833, 2007-06-21, SH_CLERK, 2600, NULL, 124, 50\n",
            "199, Douglas, Grant, DGRANT, 650.507.9844, 2008-01-13, SH_CLERK, 2600, NULL, 124, 50\n",
            "200, Jennifer, Whalen, JWHALEN, 515.123.4444, 2003-09-17, AD_ASST, 4400, NULL, 101, 10\n",
            "201, Michael, Hartstein, MHARTSTE, 515.123.5555, 2004-02-17, MK_MAN, 13000, NULL, 100, 20\n",
            "202, Pat, Fay, PFAY, 603.123.6666, 2005-08-17, MK_REP, 6000, NULL, 201, 20\n",
            "203, Susan, Mavris, SMAVRIS, 515.123.7777, 2002-06-07, HR_REP, 6500, NULL, 101, 40\n",
            "204, Hermann, Baer, HBAER, 515.123.8888, 2002-06-07, PR_REP, 10000, NULL, 101, 70\n",
            "205, Shelley, Higgins, SHIGGINS, 515.123.8080, 2002-06-07, AC_MGR, 12008, NULL, 101, 110\n",
            "206, William, Gietz, WGIETZ, 515.123.8181, 2002-06-07, AC_ACCOUNT, 8300, NULL, 205, 110\n",
            "Processed 1 lines include header.\n"
          ]
        }
      ]
    },
    {
      "cell_type": "code",
      "source": [
        "# Menampilkan dari indeks awal 3 dari 5 indeks\n",
        "read_file('employees.csv', 3, 5)"
      ],
      "metadata": {
        "id": "k5hjZA7hbF81",
        "outputId": "7a17b11e-fc90-4d8c-c2fa-61b47773849c",
        "colab": {
          "base_uri": "https://localhost:8080/"
        }
      },
      "execution_count": 339,
      "outputs": [
        {
          "output_type": "stream",
          "name": "stdout",
          "text": [
            "email, phone_number\n",
            "Processed 1 lines include header.\n"
          ]
        }
      ]
    },
    {
      "cell_type": "markdown",
      "source": [
        "**Instruksi 3:** Definisikan ulang procedure `read_file` untuk membaca file CSV dengan **jumlah baris yang dapat dibatasi**.\n",
        "\n",
        "Diperlukan sebanyak 4 parameter/argumen sebagai berikut:\n",
        "1.   `csv_file_name`: Nama File CSV\n",
        "2.   `column_start`: Indeks kolom awal\n",
        "3.   `column_end`: Indeks kolom akhir\n",
        "4.   `limit`: Nilai batas jumlah baris, dimulai dari baris pertama\n"
      ],
      "metadata": {
        "id": "kub_OimmhmEb"
      }
    },
    {
      "cell_type": "code",
      "source": [
        "def read_file(csv_file_name, column_start=0, column_end=None, limit=None):\n",
        "  with open(csv_path + csv_file_name, mode='r') as csv_file:\n",
        "      csv_reader = csv.reader(csv_file, delimiter=',')\n",
        "      line_count = 0\n",
        "      for row in csv_reader:\n",
        "          if limit is not None and line_count >= limit:\n",
        "              break\n",
        "          if column_end is None:\n",
        "              print(\", \".join(row[column_start:]))\n",
        "          else:\n",
        "              print(\", \".join(row[column_start:column_end]))\n",
        "          line_count += 1\n",
        "      print(f'Processed {line_count} lines include header.')\n",
        "  csv_file.close()"
      ],
      "metadata": {
        "id": "oDw-8PMuiX09"
      },
      "execution_count": 340,
      "outputs": []
    },
    {
      "cell_type": "markdown",
      "source": [
        "Memanggil procedure `read_file` untuk membaca file `employees.csv`, mulai dari indeks awal 3 dari 5 indeks, sebanyak 10 baris."
      ],
      "metadata": {
        "id": "-NfGrNpFpYqV"
      }
    },
    {
      "cell_type": "code",
      "source": [
        "read_file('employees.csv', 3, 5, 10)"
      ],
      "metadata": {
        "id": "x3YA5ZfFnYIU",
        "outputId": "56928ce6-edc1-40e4-894b-1e85b089b9a4",
        "colab": {
          "base_uri": "https://localhost:8080/"
        }
      },
      "execution_count": 341,
      "outputs": [
        {
          "output_type": "stream",
          "name": "stdout",
          "text": [
            "email, phone_number\n",
            "SKING, 515.123.4567\n",
            "NKOCHHAR, 515.123.4568\n",
            "LDEHAAN, 515.123.4569\n",
            "AHUNOLD, 590.423.4567\n",
            "BERNST, 590.423.4568\n",
            "DAUSTIN, 590.423.4569\n",
            "VPATABAL, 590.423.4560\n",
            "DLORENTZ, 590.423.5567\n",
            "NGREENBE, 515.124.4569\n",
            "Processed 10 lines include header.\n"
          ]
        }
      ]
    },
    {
      "cell_type": "markdown",
      "source": [
        "**Instruksi 4:** Definisikan ulang procedure `read_file` untuk membaca file CSV dengan **sortir pada kolom pertama**.\n",
        "\n",
        "Diperlukan sebanyak 4 parameter/argumen sebagai berikut:\n",
        "1.   `csv_file_name`: Nama File CSV\n",
        "2.   `column_start`: Indeks kolom awal\n",
        "3.   `column_end`: Indeks kolom akhir\n",
        "4.   `limit`: Nilai batas jumlah baris, dimulai dari baris pertama\n",
        "5.   `sort`: Sortir berdasarkan kolom pertama terpilih, dengan urutan Ascending (1), Descending (-1), dan Default (0) atau tanpa parameter."
      ],
      "metadata": {
        "id": "RO8QFMSy65el"
      }
    },
    {
      "cell_type": "code",
      "source": [
        "# Current read_file procedure saves all row(s) first into list\n",
        "# It is more practical to manipulate data in list\n",
        "# Add 5th paramater to sort by the column_start\n",
        "def read_file(csv_file_name, column_start=0, column_end=None, limit=None, sort=0):\n",
        "  with open(csv_path + csv_file_name, mode='r') as csv_file:\n",
        "      csv_reader = list(csv.reader(csv_file, delimiter=','))\n",
        "\n",
        "      if sort == 1:\n",
        "          csv_reader.sort(key=lambda x: x[column_start])\n",
        "      elif sort == -1:\n",
        "          csv_reader.sort(key=lambda x: x[column_start], reverse=True)\n",
        "\n",
        "      line_count = 0\n",
        "      for row in csv_reader:\n",
        "          if limit is not None and line_count >= limit:\n",
        "              break\n",
        "          if column_end is None:\n",
        "              print(\", \".join(row[column_start:]))\n",
        "          else:\n",
        "              print(\", \".join(row[column_start:column_end]))\n",
        "\n",
        "          line_count += 1\n",
        "      print(f'Processed {line_count} lines include header.')\n",
        "  csv_file.close()"
      ],
      "metadata": {
        "id": "758gC0c3rROR"
      },
      "execution_count": 342,
      "outputs": []
    },
    {
      "cell_type": "code",
      "source": [
        "from google.colab import drive\n",
        "drive.mount('/content/drive')"
      ],
      "metadata": {
        "id": "284ckXpE3qpA",
        "outputId": "bac69225-bd67-4be5-e9e4-04d8b387cc60",
        "colab": {
          "base_uri": "https://localhost:8080/"
        }
      },
      "execution_count": 343,
      "outputs": [
        {
          "output_type": "stream",
          "name": "stdout",
          "text": [
            "Drive already mounted at /content/drive; to attempt to forcibly remount, call drive.mount(\"/content/drive\", force_remount=True).\n"
          ]
        }
      ]
    },
    {
      "cell_type": "markdown",
      "source": [
        "Memanggil procedure `read_file` untuk membaca file `employees.csv` dengan **sortir berdasarkan kolom pertama**."
      ],
      "metadata": {
        "id": "ojMu29E-9TFg"
      }
    },
    {
      "cell_type": "code",
      "source": [
        "# Sorted by `email` in descending order\n",
        "read_file('employees.csv', 3, 5, 10, -1)"
      ],
      "metadata": {
        "id": "L3BSZ2pBr4PV",
        "outputId": "35b643e5-bbdd-4d84-e68e-72a975f2fa8b",
        "colab": {
          "base_uri": "https://localhost:8080/"
        }
      },
      "execution_count": 344,
      "outputs": [
        {
          "output_type": "stream",
          "name": "stdout",
          "text": [
            "email, phone_number\n",
            "WTAYLOR, 650.507.9876\n",
            "WSMITH, 011.44.1343.629268\n",
            "WGIETZ, 515.123.8181\n",
            "VPATABAL, 590.423.4560\n",
            "VJONES, 650.501.4876\n",
            "TRAJS, 650.121.8009\n",
            "TJOLSON, 650.124.8234\n",
            "TGATES, 650.505.3876\n",
            "TFOX, 011.44.1343.729268\n",
            "Processed 10 lines include header.\n"
          ]
        }
      ]
    },
    {
      "cell_type": "code",
      "source": [
        "# Sorted by `email` in ascending order\n",
        "read_file('employees.csv', 3, 5, 10, 1)"
      ],
      "metadata": {
        "id": "0tucBiBP67Sc",
        "outputId": "2ce9c031-d819-4dad-81c5-02cbba4abe31",
        "colab": {
          "base_uri": "https://localhost:8080/"
        }
      },
      "execution_count": 345,
      "outputs": [
        {
          "output_type": "stream",
          "name": "stdout",
          "text": [
            "ABANDA, 011.44.1346.729268\n",
            "ABULL, 650.509.2876\n",
            "ACABRIO, 650.509.4876\n",
            "AERRAZUR, 011.44.1344.429278\n",
            "AFRIPP, 650.123.2234\n",
            "AHUNOLD, 590.423.4567\n",
            "AHUTTON, 011.44.1644.429266\n",
            "AKHOO, 515.127.4562\n",
            "AMCEWEN, 011.44.1345.829268\n",
            "AWALSH, 650.507.9811\n",
            "Processed 10 lines include header.\n"
          ]
        }
      ]
    },
    {
      "cell_type": "markdown",
      "source": [
        "# Procedure Find File\n",
        "**Instruksi 5:** Definisikan procedure `find_file` untuk **mencari dan menampilkan data terpilih berdasarkan kata kunci**.\n",
        "\n",
        "1.   `csv_file_name`: Nama File CSV\n",
        "2.   `index_column`: Indeks kolom yang dijadikan acuan untuk pencarian\n",
        "3.   `keyword`: Kata kunci pencarian"
      ],
      "metadata": {
        "id": "IMT8hq65duDl"
      }
    },
    {
      "cell_type": "code",
      "source": [
        "def find_file(csv_file_name, index_column, keyword):\n",
        "# tuliskan kode sesuai instruksi di sini\n",
        "    with open(csv_path + csv_file_name, mode='r') as csv_file:\n",
        "        csv_reader = csv.reader(csv_file, delimiter=',')\n",
        "        found = False\n",
        "        line_count = 0\n",
        "\n",
        "        for row in csv_reader:\n",
        "            if keyword.lower() in row[index_column].lower():\n",
        "                print(\", \".join(row))\n",
        "                found = True\n",
        "            line_count += 1\n",
        "\n",
        "        if not found:\n",
        "            print(f\"Tidak ditemukan data dengan kata kunci '{keyword}' pada kolom {index_column}.\")\n",
        "        else:\n",
        "            print(f\"Processed {line_count} lines. Ditemukan hasil yang sesuai.\")\n",
        "    csv_file.close()"
      ],
      "metadata": {
        "id": "I6AZoUsS1blM"
      },
      "execution_count": 346,
      "outputs": []
    },
    {
      "cell_type": "markdown",
      "source": [
        "**Instruksi 6:** Gunakan procedure `find_file` dengan parameter/argumen sebagai berikut:\n",
        "\n",
        "1.   `csv_file_name`: `'employees.csv'`\n",
        "2.   `index_column`: `5`\n",
        "3.   `keyword`: `'2004'`\n",
        "\n"
      ],
      "metadata": {
        "id": "OHm8NArpffUj"
      }
    },
    {
      "cell_type": "code",
      "source": [
        "# tuliskan kode sesuai instruksi di sini\n",
        "find_file('employees.csv', 5, '2004')"
      ],
      "metadata": {
        "id": "n4InIUfi3cGa",
        "outputId": "bcf93976-fd4a-474a-cabc-25d6caba3a14",
        "colab": {
          "base_uri": "https://localhost:8080/"
        }
      },
      "execution_count": 347,
      "outputs": [
        {
          "output_type": "stream",
          "name": "stdout",
          "text": [
            "120, Matthew, Weiss, MWEISS, 650.123.1234, 2004-07-18, ST_MAN, 8000, NULL, 100, 50\n",
            "133, Jason, Mallin, JMALLIN, 650.127.1934, 2004-06-14, ST_CLERK, 3300, NULL, 122, 50\n",
            "145, John, Russell, JRUSSEL, 011.44.1344.429268, 2004-10-01, SA_MAN, 14000, 0.4, 100, 80\n",
            "156, Janette, King, JKING, 011.44.1345.429268, 2004-01-30, SA_REP, 10000, 0.35, 146, 80\n",
            "157, Patrick, Sully, PSULLY, 011.44.1345.929268, 2004-03-04, SA_REP, 9500, 0.35, 146, 80\n",
            "158, Allan, McEwen, AMCEWEN, 011.44.1345.829268, 2004-08-01, SA_REP, 9000, 0.35, 146, 80\n",
            "174, Ellen, Abel, EABEL, 011.44.1644.429267, 2004-05-11, SA_REP, 11000, 0.3, 149, 80\n",
            "184, Nandita, Sarchand, NSARCHAN, 650.509.1876, 2004-01-27, SH_CLERK, 4200, NULL, 121, 50\n",
            "192, Sarah, Bell, SBELL, 650.501.1876, 2004-02-04, SH_CLERK, 4000, NULL, 123, 50\n",
            "201, Michael, Hartstein, MHARTSTE, 515.123.5555, 2004-02-17, MK_MAN, 13000, NULL, 100, 20\n",
            "Processed 108 lines. Ditemukan hasil yang sesuai.\n"
          ]
        }
      ]
    },
    {
      "cell_type": "markdown",
      "source": [
        "**Instruksi 7:** Gunakan procedure `find_file` dengan parameter/argumen sebagai berikut:\n",
        "\n",
        "1.   `csv_file_name`: `'employees.csv'`\n",
        "2.   `index_column`: `6`\n",
        "3.   `keyword`: `'SA_REP'`\n",
        "\n"
      ],
      "metadata": {
        "id": "e2NLT66Igcne"
      }
    },
    {
      "cell_type": "code",
      "source": [
        "# tuliskan kode sesuai instruksi di sini\n",
        "find_file('employees.csv', 6, 'SA_REP')"
      ],
      "metadata": {
        "id": "eCsHeXhPgYPu",
        "outputId": "2f6437c7-3c8c-4d40-d4d4-d99f532514fe",
        "colab": {
          "base_uri": "https://localhost:8080/"
        }
      },
      "execution_count": 348,
      "outputs": [
        {
          "output_type": "stream",
          "name": "stdout",
          "text": [
            "150, Peter, Tucker, PTUCKER, 011.44.1344.129268, 2005-01-30, SA_REP, 10000, 0.3, 145, 80\n",
            "151, David, Bernstein, DBERNSTE, 011.44.1344.345268, 2005-03-24, SA_REP, 9500, 0.25, 145, 80\n",
            "152, Peter, Hall, PHALL, 011.44.1344.478968, 2005-08-20, SA_REP, 9000, 0.25, 145, 80\n",
            "153, Christopher, Olsen, COLSEN, 011.44.1344.498718, 2006-03-30, SA_REP, 8000, 0.2, 145, 80\n",
            "154, Nanette, Cambrault, NCAMBRAU, 011.44.1344.987668, 2006-12-09, SA_REP, 7500, 0.2, 145, 80\n",
            "155, Oliver, Tuvault, OTUVAULT, 011.44.1344.486508, 2007-11-23, SA_REP, 7000, 0.15, 145, 80\n",
            "156, Janette, King, JKING, 011.44.1345.429268, 2004-01-30, SA_REP, 10000, 0.35, 146, 80\n",
            "157, Patrick, Sully, PSULLY, 011.44.1345.929268, 2004-03-04, SA_REP, 9500, 0.35, 146, 80\n",
            "158, Allan, McEwen, AMCEWEN, 011.44.1345.829268, 2004-08-01, SA_REP, 9000, 0.35, 146, 80\n",
            "159, Lindsey, Smith, LSMITH, 011.44.1345.729268, 2005-03-10, SA_REP, 8000, 0.3, 146, 80\n",
            "160, Louise, Doran, LDORAN, 011.44.1345.629268, 2005-12-15, SA_REP, 7500, 0.3, 146, 80\n",
            "161, Sarath, Sewall, SSEWALL, 011.44.1345.529268, 2006-11-03, SA_REP, 7000, 0.25, 146, 80\n",
            "162, Clara, Vishney, CVISHNEY, 011.44.1346.129268, 2005-11-11, SA_REP, 10500, 0.25, 147, 80\n",
            "163, Danielle, Greene, DGREENE, 011.44.1346.229268, 2007-03-19, SA_REP, 9500, 0.15, 147, 80\n",
            "164, Mattea, Marvins, MMARVINS, 011.44.1346.329268, 2008-01-24, SA_REP, 7200, 0.1, 147, 80\n",
            "165, David, Lee, DLEE, 011.44.1346.529268, 2008-02-23, SA_REP, 6800, 0.1, 147, 80\n",
            "166, Sundar, Ande, SANDE, 011.44.1346.629268, 2008-03-24, SA_REP, 6400, 0.1, 147, 80\n",
            "167, Amit, Banda, ABANDA, 011.44.1346.729268, 2008-04-21, SA_REP, 6200, 0.1, 147, 80\n",
            "168, Lisa, Ozer, LOZER, 011.44.1343.929268, 2005-03-11, SA_REP, 11500, 0.25, 148, 80\n",
            "169, Harrison, Bloom, HBLOOM, 011.44.1343.829268, 2006-03-23, SA_REP, 10000, 0.2, 148, 80\n",
            "170, Tayler, Fox, TFOX, 011.44.1343.729268, 2006-01-24, SA_REP, 9600, 0.2, 148, 80\n",
            "171, William, Smith, WSMITH, 011.44.1343.629268, 2007-02-23, SA_REP, 7400, 0.15, 148, 80\n",
            "172, Elizabeth, Bates, EBATES, 011.44.1343.529268, 2007-03-24, SA_REP, 7300, 0.15, 148, 80\n",
            "173, Sundita, Kumar, SKUMAR, 011.44.1343.329268, 2008-04-21, SA_REP, 6100, 0.1, 148, 80\n",
            "174, Ellen, Abel, EABEL, 011.44.1644.429267, 2004-05-11, SA_REP, 11000, 0.3, 149, 80\n",
            "175, Alyssa, Hutton, AHUTTON, 011.44.1644.429266, 2005-03-19, SA_REP, 8800, 0.25, 149, 80\n",
            "176, Jonathon, Taylor, JTAYLOR, 011.44.1644.429265, 2006-03-24, SA_REP, 8600, 0.2, 149, 80\n",
            "177, Jack, Livingston, JLIVINGS, 011.44.1644.429264, 2006-04-23, SA_REP, 8400, 0.2, 149, 80\n",
            "178, Kimberely, Grant, KGRANT, 011.44.1644.429263, 2007-05-24, SA_REP, 7000, 0.15, 149, NULL\n",
            "179, Charles, Johnson, CJOHNSON, 011.44.1644.429262, 2008-01-04, SA_REP, 6200, 0.1, 149, 80\n",
            "Processed 108 lines. Ditemukan hasil yang sesuai.\n"
          ]
        }
      ]
    },
    {
      "cell_type": "markdown",
      "source": [
        "# Procedure Insert File\n",
        "**Instruksi 8:** Definisikan procedure `insert_file` untuk menambahkan data baru pada posisi baris paling akhir.\n",
        "\n",
        "1.   `csv_file_name`: Nama File CSV\n",
        "2.   `list_data`: List yang berisikan satu baris data dan memiliki data sesuai dengan jumlah kolom pada File CSV terpilih"
      ],
      "metadata": {
        "id": "JrPyIxt9beDm"
      }
    },
    {
      "cell_type": "code",
      "source": [
        "def insert_file(csv_file_name, list_data):\n",
        "  # tuliskan kode sesuai instruksi di sini\n",
        "  with open(csv_path + csv_file_name, mode='a', newline='') as csv_file:\n",
        "        csv_writer = csv.writer(csv_file)\n",
        "        csv_writer.writerow(list_data)\n",
        "        print(f\"Data {list_data} berhasil ditambahkan ke {csv_file_name}\")\n",
        "  csv_file.close()"
      ],
      "metadata": {
        "id": "llpF482gb_Bb"
      },
      "execution_count": 349,
      "outputs": []
    },
    {
      "cell_type": "markdown",
      "source": [
        "Memanggil procedure `insert_file` untuk menambahkan satu baris data pada file `countries.csv`."
      ],
      "metadata": {
        "id": "D3PubwAUdAxx"
      }
    },
    {
      "cell_type": "code",
      "source": [
        "insert_file('countries.csv', ['ID', 'Indonesia', 1])"
      ],
      "metadata": {
        "id": "rxBaSVyAmd4J",
        "outputId": "bf6151dc-3a01-4f6e-d273-daa6de7ed054",
        "colab": {
          "base_uri": "https://localhost:8080/"
        }
      },
      "execution_count": 350,
      "outputs": [
        {
          "output_type": "stream",
          "name": "stdout",
          "text": [
            "Data ['ID', 'Indonesia', 1] berhasil ditambahkan ke countries.csv\n"
          ]
        }
      ]
    },
    {
      "cell_type": "code",
      "source": [
        "insert_file('countries.csv', ['ZL', 'New Zealand', 1])"
      ],
      "metadata": {
        "id": "PGDhC3W8KNEJ",
        "outputId": "b4f78906-514b-4b82-c427-c14f351c1022",
        "colab": {
          "base_uri": "https://localhost:8080/"
        }
      },
      "execution_count": 351,
      "outputs": [
        {
          "output_type": "stream",
          "name": "stdout",
          "text": [
            "Data ['ZL', 'New Zealand', 1] berhasil ditambahkan ke countries.csv\n"
          ]
        }
      ]
    },
    {
      "cell_type": "code",
      "source": [
        "read_file('countries.csv')"
      ],
      "metadata": {
        "id": "McX6nMIfH3m8",
        "outputId": "0556d808-b229-4c77-c966-67b5ce86a8e3",
        "colab": {
          "base_uri": "https://localhost:8080/"
        }
      },
      "execution_count": 352,
      "outputs": [
        {
          "output_type": "stream",
          "name": "stdout",
          "text": [
            "country_id, country_name, region_id\n",
            "AR, Argentina, 2\n",
            "AU, Australia, 3\n",
            "BE, Belgium, 1\n",
            "BR, Brazil, 2\n",
            "CA, Canada, 2\n",
            "CH, Switzerland, 1\n",
            "CN, China, 3\n",
            "DE, Germany, 1\n",
            "DK, Denmark, 1\n",
            "EG, Egypt, 4\n",
            "FR, France, 1\n",
            "IL, Israel, 4\n",
            "IN, India, 3\n",
            "IT, Italy, 1\n",
            "JP, Japan, 3\n",
            "KW, Kuwait, 4\n",
            "ML, Malaysia, 3\n",
            "MX, Mexico, 2\n",
            "NG, Nigeria, 4\n",
            "NL, Netherlands, 1\n",
            "SG, Singapore, 3\n",
            "UK, 'United Kingdom', 1\n",
            "US, 'United States of America', 2\n",
            "ZM, Zambia, 4\n",
            "ZW, Zimbabwe, 4\n",
            "ID, Negara Kesatuan Republik Indonesia, 3\n",
            "NZ, New Zealand, 1\n",
            "ID, Negara Kesatuan Republik Indonesia, 3\n",
            "NZ, New Zealand, 1\n",
            "ID, Negara Kesatuan Republik Indonesia, 3\n",
            "NZ, New Zealand, 1\n",
            "ID, Negara Kesatuan Republik Indonesia, 3\n",
            "NZ, New Zealand, 1\n",
            "ID, Negara Kesatuan Republik Indonesia, 3\n",
            "NZ, New Zealand, 1\n",
            "ID, Negara Kesatuan Republik Indonesia, 3\n",
            "NZ, New Zealand, 1\n",
            "ID, Negara Kesatuan Republik Indonesia, 3\n",
            "NZ, New Zealand, 1\n",
            "ID, Indonesia, 1\n",
            "ZL, New Zealand, 1\n",
            "Processed 42 lines include header.\n"
          ]
        }
      ]
    },
    {
      "cell_type": "markdown",
      "source": [
        "# Procedure Update File\n",
        "**Instruksi 9:** Definisikan procedure `update_file` untuk **mengubah satu data yang telah ada, berdasarkan kolom paling pertama**.\n",
        "\n",
        "1.   `csv_file_name`: Nama File CSV\n",
        "2.   `keyword`: Kata kunci untuk menemukan baris yang akan diubah, hanya berdasarkan kolom paling pertama\n",
        "2.   `index_column`: Indeks kolom yang nilainya akan diubah, dimulai dari indeks 0\n",
        "3.   `new_value`: Nilai baru untuk mengubah nilai sebelumnya"
      ],
      "metadata": {
        "id": "uyjBLSVVDMhL"
      }
    },
    {
      "cell_type": "code",
      "source": [
        "# Procedure update_file saves all row(s) first into list\n",
        "# It is more practical to manipulate data in list\n",
        "def update_file(csv_file_name, keyword, index_column, new_value):\n",
        "  # tuliskan kode sesuai instruksi di sini\n",
        "  updated = False\n",
        "  rows = []\n",
        "\n",
        "  with open(csv_path + csv_file_name, mode='r', newline='', encoding='utf-8') as csv_file:\n",
        "        reader = csv.reader(csv_file)\n",
        "        for row in reader:\n",
        "            if row[0] == keyword:\n",
        "                if 0 <= index_column < len(row):\n",
        "                    row[index_column] = new_value\n",
        "                    updated = True\n",
        "            rows.append(row)\n",
        "\n",
        "  with open(csv_path + csv_file_name, mode='w', newline='', encoding='utf-8') as csv_file:\n",
        "        writer = csv.writer(csv_file)\n",
        "        writer.writerows(rows)\n",
        "\n",
        "  if updated:\n",
        "        print(f\"Data dengan keyword '{keyword}' berhasil diupdate.\")\n",
        "  else:\n",
        "        print(f\"Data dengan keyword '{keyword}' tidak ditemukan.\")"
      ],
      "metadata": {
        "id": "jwSoi0Wj5Wj2"
      },
      "execution_count": 353,
      "outputs": []
    },
    {
      "cell_type": "code",
      "source": [
        "# Mengubah data dengan kolom pertama bernilai 'ID', indeks kolom ke-2, dengan nilai baru '3'\n",
        "update_file('countries.csv', 'ID', 2, 3)"
      ],
      "metadata": {
        "id": "q0g6usWSHW63",
        "outputId": "a56135b8-3bc1-4058-e914-8e874b0541c8",
        "colab": {
          "base_uri": "https://localhost:8080/"
        }
      },
      "execution_count": 354,
      "outputs": [
        {
          "output_type": "stream",
          "name": "stdout",
          "text": [
            "Data dengan keyword 'ID' berhasil diupdate.\n"
          ]
        }
      ]
    },
    {
      "cell_type": "code",
      "source": [
        "# Memeriksa hasil perubahan data\n",
        "read_file('countries.csv')"
      ],
      "metadata": {
        "id": "o-1SbwpbI7oH",
        "outputId": "6220bfda-3740-4fd6-a1e9-a4a19c7ede1d",
        "colab": {
          "base_uri": "https://localhost:8080/"
        }
      },
      "execution_count": 355,
      "outputs": [
        {
          "output_type": "stream",
          "name": "stdout",
          "text": [
            "country_id, country_name, region_id\n",
            "AR, Argentina, 2\n",
            "AU, Australia, 3\n",
            "BE, Belgium, 1\n",
            "BR, Brazil, 2\n",
            "CA, Canada, 2\n",
            "CH, Switzerland, 1\n",
            "CN, China, 3\n",
            "DE, Germany, 1\n",
            "DK, Denmark, 1\n",
            "EG, Egypt, 4\n",
            "FR, France, 1\n",
            "IL, Israel, 4\n",
            "IN, India, 3\n",
            "IT, Italy, 1\n",
            "JP, Japan, 3\n",
            "KW, Kuwait, 4\n",
            "ML, Malaysia, 3\n",
            "MX, Mexico, 2\n",
            "NG, Nigeria, 4\n",
            "NL, Netherlands, 1\n",
            "SG, Singapore, 3\n",
            "UK, 'United Kingdom', 1\n",
            "US, 'United States of America', 2\n",
            "ZM, Zambia, 4\n",
            "ZW, Zimbabwe, 4\n",
            "ID, Negara Kesatuan Republik Indonesia, 3\n",
            "NZ, New Zealand, 1\n",
            "ID, Negara Kesatuan Republik Indonesia, 3\n",
            "NZ, New Zealand, 1\n",
            "ID, Negara Kesatuan Republik Indonesia, 3\n",
            "NZ, New Zealand, 1\n",
            "ID, Negara Kesatuan Republik Indonesia, 3\n",
            "NZ, New Zealand, 1\n",
            "ID, Negara Kesatuan Republik Indonesia, 3\n",
            "NZ, New Zealand, 1\n",
            "ID, Negara Kesatuan Republik Indonesia, 3\n",
            "NZ, New Zealand, 1\n",
            "ID, Negara Kesatuan Republik Indonesia, 3\n",
            "NZ, New Zealand, 1\n",
            "ID, Indonesia, 3\n",
            "ZL, New Zealand, 1\n",
            "Processed 42 lines include header.\n"
          ]
        }
      ]
    },
    {
      "cell_type": "code",
      "source": [
        "# Mengubah data dengan kolom pertama bernilai 'ID', indeks kolom ke-1, dengan nilai baru 'Negara Kesatuan Republik Indonesia'\n",
        "update_file('countries.csv', 'ID', 1, 'Negara Kesatuan Republik Indonesia')"
      ],
      "metadata": {
        "id": "Fd94i9DKJsFI",
        "outputId": "b13c9ea7-ddd5-4f6d-c846-3136a3dcc683",
        "colab": {
          "base_uri": "https://localhost:8080/"
        }
      },
      "execution_count": 356,
      "outputs": [
        {
          "output_type": "stream",
          "name": "stdout",
          "text": [
            "Data dengan keyword 'ID' berhasil diupdate.\n"
          ]
        }
      ]
    },
    {
      "cell_type": "code",
      "source": [
        "# Memeriksa hasil perubahan data\n",
        "read_file('countries.csv')"
      ],
      "metadata": {
        "id": "IJKg15AcJ__k",
        "outputId": "cb6b6977-e207-47b6-911d-8ff7dec88642",
        "colab": {
          "base_uri": "https://localhost:8080/"
        }
      },
      "execution_count": 357,
      "outputs": [
        {
          "output_type": "stream",
          "name": "stdout",
          "text": [
            "country_id, country_name, region_id\n",
            "AR, Argentina, 2\n",
            "AU, Australia, 3\n",
            "BE, Belgium, 1\n",
            "BR, Brazil, 2\n",
            "CA, Canada, 2\n",
            "CH, Switzerland, 1\n",
            "CN, China, 3\n",
            "DE, Germany, 1\n",
            "DK, Denmark, 1\n",
            "EG, Egypt, 4\n",
            "FR, France, 1\n",
            "IL, Israel, 4\n",
            "IN, India, 3\n",
            "IT, Italy, 1\n",
            "JP, Japan, 3\n",
            "KW, Kuwait, 4\n",
            "ML, Malaysia, 3\n",
            "MX, Mexico, 2\n",
            "NG, Nigeria, 4\n",
            "NL, Netherlands, 1\n",
            "SG, Singapore, 3\n",
            "UK, 'United Kingdom', 1\n",
            "US, 'United States of America', 2\n",
            "ZM, Zambia, 4\n",
            "ZW, Zimbabwe, 4\n",
            "ID, Negara Kesatuan Republik Indonesia, 3\n",
            "NZ, New Zealand, 1\n",
            "ID, Negara Kesatuan Republik Indonesia, 3\n",
            "NZ, New Zealand, 1\n",
            "ID, Negara Kesatuan Republik Indonesia, 3\n",
            "NZ, New Zealand, 1\n",
            "ID, Negara Kesatuan Republik Indonesia, 3\n",
            "NZ, New Zealand, 1\n",
            "ID, Negara Kesatuan Republik Indonesia, 3\n",
            "NZ, New Zealand, 1\n",
            "ID, Negara Kesatuan Republik Indonesia, 3\n",
            "NZ, New Zealand, 1\n",
            "ID, Negara Kesatuan Republik Indonesia, 3\n",
            "NZ, New Zealand, 1\n",
            "ID, Negara Kesatuan Republik Indonesia, 3\n",
            "ZL, New Zealand, 1\n",
            "Processed 42 lines include header.\n"
          ]
        }
      ]
    },
    {
      "cell_type": "code",
      "source": [
        "# Mengubah data dengan kolom pertama bernilai 'ZL', indeks kolom ke-0, dengan nilai baru 'NZ'\n",
        "update_file('countries.csv', 'ZL', 0, 'NZ')"
      ],
      "metadata": {
        "id": "NDwu1cbgKci4",
        "outputId": "349c2bd9-46eb-4fd3-f7d4-9bb12341a357",
        "colab": {
          "base_uri": "https://localhost:8080/"
        }
      },
      "execution_count": 358,
      "outputs": [
        {
          "output_type": "stream",
          "name": "stdout",
          "text": [
            "Data dengan keyword 'ZL' berhasil diupdate.\n"
          ]
        }
      ]
    },
    {
      "cell_type": "code",
      "source": [
        "# Memeriksa hasil perubahan data\n",
        "read_file('countries.csv')"
      ],
      "metadata": {
        "id": "YHv2_TB8K93R",
        "outputId": "eda763e6-459a-43e4-ca1b-3583b6fac0f7",
        "colab": {
          "base_uri": "https://localhost:8080/"
        }
      },
      "execution_count": 359,
      "outputs": [
        {
          "output_type": "stream",
          "name": "stdout",
          "text": [
            "country_id, country_name, region_id\n",
            "AR, Argentina, 2\n",
            "AU, Australia, 3\n",
            "BE, Belgium, 1\n",
            "BR, Brazil, 2\n",
            "CA, Canada, 2\n",
            "CH, Switzerland, 1\n",
            "CN, China, 3\n",
            "DE, Germany, 1\n",
            "DK, Denmark, 1\n",
            "EG, Egypt, 4\n",
            "FR, France, 1\n",
            "IL, Israel, 4\n",
            "IN, India, 3\n",
            "IT, Italy, 1\n",
            "JP, Japan, 3\n",
            "KW, Kuwait, 4\n",
            "ML, Malaysia, 3\n",
            "MX, Mexico, 2\n",
            "NG, Nigeria, 4\n",
            "NL, Netherlands, 1\n",
            "SG, Singapore, 3\n",
            "UK, 'United Kingdom', 1\n",
            "US, 'United States of America', 2\n",
            "ZM, Zambia, 4\n",
            "ZW, Zimbabwe, 4\n",
            "ID, Negara Kesatuan Republik Indonesia, 3\n",
            "NZ, New Zealand, 1\n",
            "ID, Negara Kesatuan Republik Indonesia, 3\n",
            "NZ, New Zealand, 1\n",
            "ID, Negara Kesatuan Republik Indonesia, 3\n",
            "NZ, New Zealand, 1\n",
            "ID, Negara Kesatuan Republik Indonesia, 3\n",
            "NZ, New Zealand, 1\n",
            "ID, Negara Kesatuan Republik Indonesia, 3\n",
            "NZ, New Zealand, 1\n",
            "ID, Negara Kesatuan Republik Indonesia, 3\n",
            "NZ, New Zealand, 1\n",
            "ID, Negara Kesatuan Republik Indonesia, 3\n",
            "NZ, New Zealand, 1\n",
            "ID, Negara Kesatuan Republik Indonesia, 3\n",
            "NZ, New Zealand, 1\n",
            "Processed 42 lines include header.\n"
          ]
        }
      ]
    },
    {
      "cell_type": "markdown",
      "source": [
        "# Procedure Delete File\n",
        "**Instruksi 10:** Definisikan procedure `delete_file` untuk **menghapus satu data yang telah ada, berdasarkan kolom paling pertama**.\n",
        "\n",
        "1.   `csv_file_name`: Nama File CSV\n",
        "2.   `keyword`: Kata kunci untuk menemukan baris yang akan dihapus, hanya berdasarkan kolom paling pertama"
      ],
      "metadata": {
        "id": "Pn0P5P4iMZkd"
      }
    },
    {
      "cell_type": "code",
      "source": [
        "# Procedure delete_file saves all row(s) first into list\n",
        "# It is more practical to manipulate data in list\n",
        "def delete_file(csv_file_name, keyword):\n",
        "  rows = []\n",
        "  with open(csv_file_name, mode='r', newline='', encoding='utf-8') as file:\n",
        "      reader = csv.reader(file)\n",
        "      for row in reader:\n",
        "          if row[0] != keyword:\n",
        "              rows.append(row)\n",
        "\n",
        "  with open(csv_file_name, mode='w', newline='', encoding='utf-8') as file:\n",
        "      writer = csv.writer(file)\n",
        "      writer.writerows(rows)\n",
        "  # tuliskan kode sesuai instruksi di sini"
      ],
      "metadata": {
        "id": "YJDPWrHfMtqf"
      },
      "execution_count": 360,
      "outputs": []
    },
    {
      "cell_type": "code",
      "source": [
        "# Menghapus data dengan kolom pertama bernilai 'NZ'\n",
        "delete_file('countries.csv', 'NZ')"
      ],
      "metadata": {
        "id": "KE7wqGaLNbgf"
      },
      "execution_count": 361,
      "outputs": []
    },
    {
      "cell_type": "code",
      "source": [
        "# Memeriksa hasil penghapusan data\n",
        "read_file('countries.csv')"
      ],
      "metadata": {
        "id": "ASkwpnnjNXUm",
        "outputId": "666bb3a1-4a1d-4dd5-f194-17f91e76684c",
        "colab": {
          "base_uri": "https://localhost:8080/"
        }
      },
      "execution_count": 362,
      "outputs": [
        {
          "output_type": "stream",
          "name": "stdout",
          "text": [
            "country_id, country_name, region_id\n",
            "AR, Argentina, 2\n",
            "AU, Australia, 3\n",
            "BE, Belgium, 1\n",
            "BR, Brazil, 2\n",
            "CA, Canada, 2\n",
            "CH, Switzerland, 1\n",
            "CN, China, 3\n",
            "DE, Germany, 1\n",
            "DK, Denmark, 1\n",
            "EG, Egypt, 4\n",
            "FR, France, 1\n",
            "IL, Israel, 4\n",
            "IN, India, 3\n",
            "IT, Italy, 1\n",
            "JP, Japan, 3\n",
            "KW, Kuwait, 4\n",
            "ML, Malaysia, 3\n",
            "MX, Mexico, 2\n",
            "NG, Nigeria, 4\n",
            "NL, Netherlands, 1\n",
            "SG, Singapore, 3\n",
            "UK, 'United Kingdom', 1\n",
            "US, 'United States of America', 2\n",
            "ZM, Zambia, 4\n",
            "ZW, Zimbabwe, 4\n",
            "ID, Negara Kesatuan Republik Indonesia, 3\n",
            "NZ, New Zealand, 1\n",
            "ID, Negara Kesatuan Republik Indonesia, 3\n",
            "NZ, New Zealand, 1\n",
            "ID, Negara Kesatuan Republik Indonesia, 3\n",
            "NZ, New Zealand, 1\n",
            "ID, Negara Kesatuan Republik Indonesia, 3\n",
            "NZ, New Zealand, 1\n",
            "ID, Negara Kesatuan Republik Indonesia, 3\n",
            "NZ, New Zealand, 1\n",
            "ID, Negara Kesatuan Republik Indonesia, 3\n",
            "NZ, New Zealand, 1\n",
            "ID, Negara Kesatuan Republik Indonesia, 3\n",
            "NZ, New Zealand, 1\n",
            "ID, Negara Kesatuan Republik Indonesia, 3\n",
            "NZ, New Zealand, 1\n",
            "Processed 42 lines include header.\n"
          ]
        }
      ]
    }
  ]
}