{
  "nbformat": 4,
  "nbformat_minor": 0,
  "metadata": {
    "colab": {
      "name": "File_Python_Exercise.ipynb",
      "provenance": [],
      "toc_visible": true,
      "include_colab_link": true
    },
    "kernelspec": {
      "name": "python3",
      "display_name": "Python 3"
    },
    "language_info": {
      "name": "python"
    }
  },
  "cells": [
    {
      "cell_type": "markdown",
      "metadata": {
        "id": "view-in-github",
        "colab_type": "text"
      },
      "source": [
        "<a href=\"https://colab.research.google.com/github/nsitizen/Percobaan-GitHub/blob/main/File_Python_Exercise.ipynb\" target=\"_parent\"><img src=\"https://colab.research.google.com/assets/colab-badge.svg\" alt=\"Open In Colab\"/></a>"
      ]
    },
    {
      "cell_type": "markdown",
      "source": [
        "# Intro\n",
        "File (CSV) I/O pada Python bertujuan untuk melatih dan memberikan wawasan kepada pembelajar agar bisa memahami penggunaan operasi read, find, insert, update dan delete pada file CSV.\n",
        "\n",
        "File CSV yang digunakan pada latihan ini bersumber dari studi kasus HR pada Oracle yang sudah dikonversi dalam format CSV.\n",
        "\n",
        "Latihan ini disajikan sebagai pengenalan dasar sebelum pembelajar menggunakan DBMS (Database Management System). Harapannya pembelajar memiliki pengalaman melakukan pemrosesan file secara langsung, sebelum dimudahkan oleh operasi-operasi yang telah disediakan oleh DBMS untuk memproses data tabular.\n",
        "\n",
        "Pada latihan ini terdapat 10 instruksi yang dapat dikerjakan oleh pembelajar, dan harus menyesuaikan dengan output yang telah disediakan. Pembelajar tidak diperkenankan menggunakan module selain `csv`."
      ],
      "metadata": {
        "id": "FaRxUUhoRE09"
      }
    },
    {
      "cell_type": "markdown",
      "source": [
        "# Import Module\n",
        "Module CSV digunakan untuk membaca file CSV.\n",
        "\n",
        "Module Drive digunakan untuk memuat dan meminta izin mengakses direktori dan file pada Google Drive."
      ],
      "metadata": {
        "id": "tL4IIe9jUW3J"
      }
    },
    {
      "cell_type": "code",
      "source": [
        "import csv\n",
        "from google.colab import drive\n",
        "drive.mount('/content/drive')"
      ],
      "metadata": {
        "colab": {
          "base_uri": "https://localhost:8080/"
        },
        "id": "mVD2QW8omNhO",
        "outputId": "511122e0-abcc-412c-f5c2-25b937ff17d5"
      },
      "execution_count": 6,
      "outputs": [
        {
          "output_type": "stream",
          "name": "stdout",
          "text": [
            "Drive already mounted at /content/drive; to attempt to forcibly remount, call drive.mount(\"/content/drive\", force_remount=True).\n"
          ]
        }
      ]
    },
    {
      "cell_type": "markdown",
      "source": [
        "# Menentukan Path Direktori\n",
        "Mempersiapkan path direktori yang berisikan kumpulan file CSV pada variable `csv_path`"
      ],
      "metadata": {
        "id": "fQsOzRsQU_Sf"
      }
    },
    {
      "cell_type": "code",
      "source": [
        "# Sesuaikan path direktori masing-masing\n",
        "csv_path = '/content/drive/MyDrive/Colab Notebooks/file-csv-python-main/oracle-hr-csv/'"
      ],
      "metadata": {
        "id": "gjxhf7D-TjY_"
      },
      "execution_count": 7,
      "outputs": []
    },
    {
      "cell_type": "markdown",
      "source": [],
      "metadata": {
        "id": "yq_xiGnGGjtb"
      }
    },
    {
      "cell_type": "markdown",
      "source": [
        "# Procedure Read File\n",
        "Pada procedure `read_file` berfungsi untuk membaca file CSV dan menampilkan seluruh isi dari file CSV yang dipilih.\n",
        "\n",
        "Procedure ini masih memiliki keterbatasan jumlah kolom yang dapat ditampilkan."
      ],
      "metadata": {
        "id": "QQTz54TdVam_"
      }
    },
    {
      "cell_type": "code",
      "execution_count": 8,
      "metadata": {
        "id": "uz1KHBpnQMPO"
      },
      "outputs": [],
      "source": [
        "def read_file(csv_file_name):\n",
        "  with open(csv_path + csv_file_name, mode='r') as csv_file:\n",
        "      csv_reader = csv.reader(csv_file, delimiter=',')\n",
        "      line_count = 0\n",
        "      for row in csv_reader:\n",
        "          if line_count == 0:\n",
        "              print(f'Column names:')\n",
        "          print(f'{row[0]}, {row[1]}, {row[2]}')\n",
        "          line_count += 1\n",
        "      print(f'Processed {line_count} lines include header.')\n",
        "  csv_file.close()"
      ]
    },
    {
      "cell_type": "markdown",
      "source": [
        "Memanggil procedure `read_file` untuk membaca file `countries.csv` yang terdiri dari 3 kolom."
      ],
      "metadata": {
        "id": "wczIff1HWtb-"
      }
    },
    {
      "cell_type": "code",
      "source": [
        "read_file('countries.csv')"
      ],
      "metadata": {
        "colab": {
          "base_uri": "https://localhost:8080/"
        },
        "id": "sUXV9jsuWrNq",
        "outputId": "35b490aa-e2e0-40db-febc-2a8663e63ada"
      },
      "execution_count": 9,
      "outputs": [
        {
          "output_type": "stream",
          "name": "stdout",
          "text": [
            "Column names:\n",
            "country_id, country_name, region_id\n",
            "AR, Argentina, 2\n",
            "AU, Australia, 3\n",
            "BE, Belgium, 1\n",
            "BR, Brazil, 2\n",
            "CA, Canada, 2\n",
            "CH, Switzerland, 1\n",
            "CN, China, 3\n",
            "DE, Germany, 1\n",
            "DK, Denmark, 1\n",
            "EG, Egypt, 4\n",
            "FR, France, 1\n",
            "IL, Israel, 4\n",
            "IN, India, 3\n",
            "IT, Italy, 1\n",
            "JP, Japan, 3\n",
            "KW, Kuwait, 4\n",
            "ML, Malaysia, 3\n",
            "MX, Mexico, 2\n",
            "NG, Nigeria, 4\n",
            "NL, Netherlands, 1\n",
            "SG, Singapore, 3\n",
            "UK, 'United Kingdom', 1\n",
            "US, 'United States of America', 2\n",
            "ZM, Zambia, 4\n",
            "ZW, Zimbabwe, 4\n",
            "Processed 26 lines include header.\n"
          ]
        }
      ]
    },
    {
      "cell_type": "markdown",
      "source": [
        "**Instruksi 1:** Definisikan ulang procedure `read_file` untuk dapat **menampilkan seluruh kolom**."
      ],
      "metadata": {
        "id": "-Qu2mm-xWOcf"
      }
    },
    {
      "cell_type": "code",
      "source": [
        "def read_file(csv_file_name):\n",
        "  with open(csv_path + csv_file_name, mode='r') as csv_file:\n",
        "      csv_reader = csv.reader(csv_file, delimiter=',')\n",
        "      line_count = 0\n",
        "      for row in csv_reader:\n",
        "          if line_count == 0:\n",
        "              print(f'Column names:')\n",
        "          print(f'{row[0]}, {row[1]}')\n",
        "          line_count += 1\n",
        "      print(f'Processed {line_count} lines include header.')\n",
        "  csv_file.close()"
      ],
      "metadata": {
        "id": "d8NpIS81TmGf"
      },
      "execution_count": 10,
      "outputs": []
    },
    {
      "cell_type": "markdown",
      "source": [
        "Memanggil procedure `read_file` untuk membaca file `regions.csv` yang terdiri dari 2 kolom."
      ],
      "metadata": {
        "id": "sXnFXUM8DhRR"
      }
    },
    {
      "cell_type": "code",
      "source": [
        "read_file('regions.csv')"
      ],
      "metadata": {
        "colab": {
          "base_uri": "https://localhost:8080/"
        },
        "id": "Hh6gM7aADaeS",
        "outputId": "3a98b42e-bff0-4811-fe90-2ff1b5df8747"
      },
      "execution_count": 11,
      "outputs": [
        {
          "output_type": "stream",
          "name": "stdout",
          "text": [
            "Column names:\n",
            "region_id, region_name\n",
            "1, Europe\n",
            "2, Americas\n",
            "3, Asia\n",
            "4, 'Middle East and Africa'\n",
            "Processed 5 lines include header.\n"
          ]
        }
      ]
    },
    {
      "cell_type": "code",
      "source": [
        "def read_file(csv_file_name):\n",
        "  with open(csv_path + csv_file_name, mode='r') as csv_file:\n",
        "      csv_reader = csv.reader(csv_file, delimiter=',')\n",
        "      line_count = 0\n",
        "      for row in csv_reader:\n",
        "          if line_count == 0:\n",
        "              print(f'Column names:')\n",
        "          print(f'{row[0]}, {row[1]}, {row[2]}, {row[3]}, {row[4]}, {row[5]}, {row[6]}, {row[7]}, {row[8]}, {row[9]}, {row[10]}')\n",
        "          line_count += 1\n",
        "      print(f'Processed {line_count} lines include header.')\n",
        "  csv_file.close()"
      ],
      "metadata": {
        "id": "p0my4iCL9dxF"
      },
      "execution_count": null,
      "outputs": []
    },
    {
      "cell_type": "markdown",
      "source": [
        "Memanggil procedure `read_file` untuk membaca file `employees.csv` yang terdiri dari 11 kolom."
      ],
      "metadata": {
        "id": "r0bD8glLYoZw"
      }
    },
    {
      "cell_type": "code",
      "source": [
        "read_file('employees.csv')"
      ],
      "metadata": {
        "id": "b4G78ILn0pFW"
      },
      "execution_count": null,
      "outputs": []
    },
    {
      "cell_type": "markdown",
      "source": [
        "**Instruksi 2:** Definisikan ulang procedure `read_file` untuk dapat **menampilkan kolom tertentu** berdasarkan indeks list (mulai dari 0) dengan menyediakan 3 parameter/argumen:\n",
        "\n",
        "1.   `csv_file_name`: Nama File CSV\n",
        "2.   `column_start`: Indeks kolom awal\n",
        "3.   `column_end`: Indeks kolom akhir\n",
        "\n"
      ],
      "metadata": {
        "id": "mDVzeAeoXpdp"
      }
    },
    {
      "cell_type": "code",
      "source": [
        "def read_file(csv_file_name, column_start=0, column_end=None):\n",
        "  with open(csv_path + csv_file_name, mode='r') as csv_file:\n",
        "      csv_reader = csv.reader(csv_file, delimiter=',')\n",
        "      line_count = 0\n",
        "      for row in csv_reader:\n",
        "          if line_count == 0:\n",
        "              print(f'Column names:')\n",
        "          print(f'{row[0]}, {row[1]}')\n",
        "          line_count += 1\n",
        "      print(f'Processed {line_count} lines include header.')\n",
        "  csv_file.close()"
      ],
      "metadata": {
        "id": "TJP9t2PrCFkh"
      },
      "execution_count": null,
      "outputs": []
    },
    {
      "cell_type": "markdown",
      "source": [
        "Memanggil procedure `read_file` untuk membaca file `employees.csv` dengan pemilihan kolom tertentu.\n",
        "\n",
        "Proses pemilihan kolom sama seperti melakukan slicing list pada Python."
      ],
      "metadata": {
        "id": "qbUzdUTKY5gZ"
      }
    },
    {
      "cell_type": "code",
      "source": [
        "# Menampilkan dari indeks awal 0 dari 3 indeks\n",
        "read_file('employees.csv', 0, 3)"
      ],
      "metadata": {
        "id": "pdsPim_SC8jl"
      },
      "execution_count": null,
      "outputs": []
    },
    {
      "cell_type": "code",
      "source": [
        "# Menampilkan dari indeks awal 0 sampai akhir\n",
        "read_file('employees.csv', 0)"
      ],
      "metadata": {
        "id": "qy6DdPHSaIq0"
      },
      "execution_count": null,
      "outputs": []
    },
    {
      "cell_type": "code",
      "source": [
        "# Menampilkan dari indeks awal 3 dari 5 indeks\n",
        "read_file('employees.csv', 3, 5)"
      ],
      "metadata": {
        "id": "k5hjZA7hbF81"
      },
      "execution_count": null,
      "outputs": []
    },
    {
      "cell_type": "markdown",
      "source": [
        "**Instruksi 3:** Definisikan ulang procedure `read_file` untuk membaca file CSV dengan **jumlah baris yang dapat dibatasi**.\n",
        "\n",
        "Diperlukan sebanyak 4 parameter/argumen sebagai berikut:\n",
        "1.   `csv_file_name`: Nama File CSV\n",
        "2.   `column_start`: Indeks kolom awal\n",
        "3.   `column_end`: Indeks kolom akhir\n",
        "4.   `limit`: Nilai batas jumlah baris, dimulai dari baris pertama\n"
      ],
      "metadata": {
        "id": "kub_OimmhmEb"
      }
    },
    {
      "cell_type": "code",
      "source": [
        "def read_file(csv_file_name, column_start=0, column_end=None, limit=None):\n",
        "  with open(csv_path + csv_file_name, mode='r') as csv_file:\n",
        "      csv_reader = csv.reader(csv_file, delimiter=',')\n",
        "      line_count = 0\n",
        "      for row in csv_reader:\n",
        "          if line_count == 0:\n",
        "              print(f'Column names:')\n",
        "          print(f'{row[0]}, {row[1]}')\n",
        "          line_count += 1\n",
        "      print(f'Processed {line_count} lines include header.')\n",
        "  csv_file.close()"
      ],
      "metadata": {
        "id": "oDw-8PMuiX09"
      },
      "execution_count": null,
      "outputs": []
    },
    {
      "cell_type": "markdown",
      "source": [
        "Memanggil procedure `read_file` untuk membaca file `employees.csv`, mulai dari indeks awal 3 dari 5 indeks, sebanyak 10 baris."
      ],
      "metadata": {
        "id": "-NfGrNpFpYqV"
      }
    },
    {
      "cell_type": "code",
      "source": [
        "read_file('employees.csv', 3, 5, 10)"
      ],
      "metadata": {
        "id": "x3YA5ZfFnYIU"
      },
      "execution_count": null,
      "outputs": []
    },
    {
      "cell_type": "markdown",
      "source": [
        "**Instruksi 4:** Definisikan ulang procedure `read_file` untuk membaca file CSV dengan **sortir pada kolom pertama**.\n",
        "\n",
        "Diperlukan sebanyak 4 parameter/argumen sebagai berikut:\n",
        "1.   `csv_file_name`: Nama File CSV\n",
        "2.   `column_start`: Indeks kolom awal\n",
        "3.   `column_end`: Indeks kolom akhir\n",
        "4.   `limit`: Nilai batas jumlah baris, dimulai dari baris pertama\n",
        "5.   `sort`: Sortir berdasarkan kolom pertama terpilih, dengan urutan Ascending (1), Descending (-1), dan Default (0) atau tanpa parameter."
      ],
      "metadata": {
        "id": "RO8QFMSy65el"
      }
    },
    {
      "cell_type": "code",
      "source": [
        "# Current read_file procedure saves all row(s) first into list\n",
        "# It is more practical to manipulate data in list\n",
        "# Add 5th paramater to sort by the column_start\n",
        "def read_file(csv_file_name, column_start=0, column_end=None, limit=None, sort=0):\n",
        "  # tambahkan kode sesuai instruksi di sini"
      ],
      "metadata": {
        "id": "758gC0c3rROR"
      },
      "execution_count": null,
      "outputs": []
    },
    {
      "cell_type": "code",
      "source": [
        "from google.colab import drive\n",
        "drive.mount('/content/drive')"
      ],
      "metadata": {
        "id": "284ckXpE3qpA"
      },
      "execution_count": null,
      "outputs": []
    },
    {
      "cell_type": "markdown",
      "source": [
        "Memanggil procedure `read_file` untuk membaca file `employees.csv` dengan **sortir berdasarkan kolom pertama**."
      ],
      "metadata": {
        "id": "ojMu29E-9TFg"
      }
    },
    {
      "cell_type": "code",
      "source": [
        "# Sorted by `email` in descending order\n",
        "read_file('employees.csv', 3, 5, 10, -1)"
      ],
      "metadata": {
        "id": "L3BSZ2pBr4PV"
      },
      "execution_count": null,
      "outputs": []
    },
    {
      "cell_type": "code",
      "source": [
        "# Sorted by `email` in ascending order\n",
        "read_file('employees.csv', 3, 5, 10, 1)"
      ],
      "metadata": {
        "id": "0tucBiBP67Sc"
      },
      "execution_count": null,
      "outputs": []
    },
    {
      "cell_type": "markdown",
      "source": [
        "# Procedure Find File\n",
        "**Instruksi 5:** Definisikan procedure `find_file` untuk **mencari dan menampilkan data terpilih berdasarkan kata kunci**.\n",
        "\n",
        "1.   `csv_file_name`: Nama File CSV\n",
        "2.   `index_column`: Indeks kolom yang dijadikan acuan untuk pencarian\n",
        "3.   `keyword`: Kata kunci pencarian"
      ],
      "metadata": {
        "id": "IMT8hq65duDl"
      }
    },
    {
      "cell_type": "code",
      "source": [
        "def find_file(csv_file_name, index_column, keyword):\n",
        "  # tambahkan kode sesuai instruksi di sini"
      ],
      "metadata": {
        "id": "I6AZoUsS1blM"
      },
      "execution_count": null,
      "outputs": []
    },
    {
      "cell_type": "markdown",
      "source": [
        "**Instruksi 6:** Gunakan procedure `find_file` dengan parameter/argumen sebagai berikut:\n",
        "\n",
        "1.   `csv_file_name`: `'employees.csv'`\n",
        "2.   `index_column`: `5`\n",
        "3.   `keyword`: `'2004'`\n",
        "\n"
      ],
      "metadata": {
        "id": "OHm8NArpffUj"
      }
    },
    {
      "cell_type": "code",
      "source": [
        "# tuliskan kode sesuai instruksi di sini"
      ],
      "metadata": {
        "id": "n4InIUfi3cGa"
      },
      "execution_count": null,
      "outputs": []
    },
    {
      "cell_type": "markdown",
      "source": [
        "**Instruksi 7:** Gunakan procedure `find_file` dengan parameter/argumen sebagai berikut:\n",
        "\n",
        "1.   `csv_file_name`: `'employees.csv'`\n",
        "2.   `index_column`: `6`\n",
        "3.   `keyword`: `'SA_REP'`\n",
        "\n"
      ],
      "metadata": {
        "id": "e2NLT66Igcne"
      }
    },
    {
      "cell_type": "code",
      "source": [
        "# tuliskan kode sesuai instruksi di sini"
      ],
      "metadata": {
        "id": "eCsHeXhPgYPu"
      },
      "execution_count": null,
      "outputs": []
    },
    {
      "cell_type": "markdown",
      "source": [
        "# Procedure Insert File\n",
        "**Instruksi 8:** Definisikan procedure `insert_file` untuk menambahkan data baru pada posisi baris paling akhir.\n",
        "\n",
        "1.   `csv_file_name`: Nama File CSV\n",
        "2.   `list_data`: List yang berisikan satu baris data dan memiliki data sesuai dengan jumlah kolom pada File CSV terpilih"
      ],
      "metadata": {
        "id": "JrPyIxt9beDm"
      }
    },
    {
      "cell_type": "code",
      "source": [
        "def insert_file(csv_file_name, list_data):\n",
        "  # tuliskan kode sesuai instruksi di sini"
      ],
      "metadata": {
        "id": "llpF482gb_Bb"
      },
      "execution_count": null,
      "outputs": []
    },
    {
      "cell_type": "markdown",
      "source": [
        "Memanggil procedure `insert_file` untuk menambahkan satu baris data pada file `countries.csv`."
      ],
      "metadata": {
        "id": "D3PubwAUdAxx"
      }
    },
    {
      "cell_type": "code",
      "source": [
        "insert_file('countries.csv', ['ID', 'Indonesia', 1])"
      ],
      "metadata": {
        "id": "rxBaSVyAmd4J"
      },
      "execution_count": null,
      "outputs": []
    },
    {
      "cell_type": "code",
      "source": [
        "insert_file('countries.csv', ['ZL', 'New Zealand', 1])"
      ],
      "metadata": {
        "id": "PGDhC3W8KNEJ"
      },
      "execution_count": null,
      "outputs": []
    },
    {
      "cell_type": "code",
      "source": [
        "read_file('countries.csv')"
      ],
      "metadata": {
        "id": "McX6nMIfH3m8"
      },
      "execution_count": null,
      "outputs": []
    },
    {
      "cell_type": "markdown",
      "source": [
        "# Procedure Update File\n",
        "**Instruksi 9:** Definisikan procedure `update_file` untuk **mengubah satu data yang telah ada, berdasarkan kolom paling pertama**.\n",
        "\n",
        "1.   `csv_file_name`: Nama File CSV\n",
        "2.   `keyword`: Kata kunci untuk menemukan baris yang akan diubah, hanya berdasarkan kolom paling pertama\n",
        "2.   `index_column`: Indeks kolom yang nilainya akan diubah, dimulai dari indeks 0\n",
        "3.   `new_value`: Nilai baru untuk mengubah nilai sebelumnya"
      ],
      "metadata": {
        "id": "uyjBLSVVDMhL"
      }
    },
    {
      "cell_type": "code",
      "source": [
        "# Procedure update_file saves all row(s) first into list\n",
        "# It is more practical to manipulate data in list\n",
        "def update_file(csv_file_name, keyword, index_column, new_value):\n",
        "  # tuliskan kode sesuai instruksi di sini"
      ],
      "metadata": {
        "id": "jwSoi0Wj5Wj2"
      },
      "execution_count": null,
      "outputs": []
    },
    {
      "cell_type": "code",
      "source": [
        "# Mengubah data dengan kolom pertama bernilai 'ID', indeks kolom ke-2, dengan nilai baru '3'\n",
        "update_file('countries.csv', 'ID', 2, 3)"
      ],
      "metadata": {
        "id": "q0g6usWSHW63"
      },
      "execution_count": null,
      "outputs": []
    },
    {
      "cell_type": "code",
      "source": [
        "# Memeriksa hasil perubahan data\n",
        "read_file('countries.csv')"
      ],
      "metadata": {
        "id": "o-1SbwpbI7oH"
      },
      "execution_count": null,
      "outputs": []
    },
    {
      "cell_type": "code",
      "source": [
        "# Mengubah data dengan kolom pertama bernilai 'ID', indeks kolom ke-1, dengan nilai baru 'Negara Kesatuan Republik Indonesia'\n",
        "update_file('countries.csv', 'ID', 1, 'Negara Kesatuan Republik Indonesia')"
      ],
      "metadata": {
        "id": "Fd94i9DKJsFI"
      },
      "execution_count": null,
      "outputs": []
    },
    {
      "cell_type": "code",
      "source": [
        "# Memeriksa hasil perubahan data\n",
        "read_file('countries.csv')"
      ],
      "metadata": {
        "id": "IJKg15AcJ__k"
      },
      "execution_count": null,
      "outputs": []
    },
    {
      "cell_type": "code",
      "source": [
        "# Mengubah data dengan kolom pertama bernilai 'ZL', indeks kolom ke-0, dengan nilai baru 'NZ'\n",
        "update_file('countries.csv', 'ZL', 0, 'NZ')"
      ],
      "metadata": {
        "id": "NDwu1cbgKci4"
      },
      "execution_count": null,
      "outputs": []
    },
    {
      "cell_type": "code",
      "source": [
        "# Memeriksa hasil perubahan data\n",
        "read_file('countries.csv')"
      ],
      "metadata": {
        "id": "YHv2_TB8K93R"
      },
      "execution_count": null,
      "outputs": []
    },
    {
      "cell_type": "markdown",
      "source": [
        "# Procedure Delete File\n",
        "**Instruksi 10:** Definisikan procedure `delete_file` untuk **menghapus satu data yang telah ada, berdasarkan kolom paling pertama**.\n",
        "\n",
        "1.   `csv_file_name`: Nama File CSV\n",
        "2.   `keyword`: Kata kunci untuk menemukan baris yang akan dihapus, hanya berdasarkan kolom paling pertama"
      ],
      "metadata": {
        "id": "Pn0P5P4iMZkd"
      }
    },
    {
      "cell_type": "code",
      "source": [
        "# Procedure delete_file saves all row(s) first into list\n",
        "# It is more practical to manipulate data in list\n",
        "def delete_file(csv_file_name, keyword):\n",
        "  # tuliskan kode sesuai instruksi di sini"
      ],
      "metadata": {
        "id": "YJDPWrHfMtqf"
      },
      "execution_count": null,
      "outputs": []
    },
    {
      "cell_type": "code",
      "source": [
        "# Menghapus data dengan kolom pertama bernilai 'NZ'\n",
        "delete_file('countries.csv', 'NZ')"
      ],
      "metadata": {
        "id": "KE7wqGaLNbgf"
      },
      "execution_count": null,
      "outputs": []
    },
    {
      "cell_type": "code",
      "source": [
        "# Memeriksa hasil penghapusan data\n",
        "read_file('countries.csv')"
      ],
      "metadata": {
        "id": "ASkwpnnjNXUm"
      },
      "execution_count": null,
      "outputs": []
    }
  ]
}